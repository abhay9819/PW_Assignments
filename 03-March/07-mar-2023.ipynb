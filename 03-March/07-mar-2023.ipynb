{
 "cells": [
  {
   "cell_type": "code",
   "execution_count": null,
   "id": "645b1905-1cba-4c0c-b8e3-ad3464b3e3f5",
   "metadata": {},
   "outputs": [],
   "source": [
    "# Q1. What are the three measures of central tendency?\n",
    "\n",
    "'''\n",
    "The three measures of central tendency are:\n",
    "\n",
    "Mean: It is the average of all the data points. It is calculated by summing up all the values in the dataset and dividing\n",
    "by the total number of values.\n",
    "\n",
    "Median: It is the middle value in the sorted dataset. It is calculated by arranging the values in ascending or descending\n",
    "order and selecting the value that lies in the middle. If the dataset has an even number of values, then the median is the\n",
    "average of the two middle values.\n",
    "\n",
    "Mode: It is the value that appears most frequently in the dataset. If there are multiple values that appear with the same\n",
    "highest frequency, then the dataset is said to have multiple modes.\n",
    "'''\n"
   ]
  },
  {
   "cell_type": "code",
   "execution_count": null,
   "id": "2ffdacc9-ab45-40f3-a6b3-e6332017d288",
   "metadata": {},
   "outputs": [],
   "source": [
    "# Q2. What is the difference between the mean, median, and mode? How are they used to measure the\n",
    "# central tendency of a dataset?\n",
    "\n",
    "'''\n",
    "Mean, median, and mode are measures of central tendency that are used to describe the center of a dataset. They provide\n",
    "information about the typical or most representative value in a dataset.\n",
    "\n",
    "The main difference between the mean, median, and mode is the way they are calculated and the type of data they are most\n",
    "suitable for.\n",
    "\n",
    "Mean: The mean is calculated by adding up all the values in a dataset and dividing by the total number of values. It is\n",
    "best suited for datasets that have a symmetrical distribution and no extreme values, as outliers can significantly \n",
    "affect the mean value.\n",
    "\n",
    "Median: The median is the middle value in a dataset. It is calculated by arranging the values in ascending or descending\n",
    "order and selecting the value that lies in the middle. The median is best suited for datasets that have extreme values \n",
    "or outliers, as it is less sensitive to these values compared to the mean.\n",
    "\n",
    "Mode: The mode is the value that appears most frequently in a dataset. It is best suited for datasets that have categorical\n",
    "or discrete data, as it gives the most common value in the dataset.\n",
    "'''\n"
   ]
  },
  {
   "cell_type": "code",
   "execution_count": 1,
   "id": "ab17165e-65fe-43fc-b9f0-2b524ce32599",
   "metadata": {},
   "outputs": [
    {
     "name": "stdout",
     "output_type": "stream",
     "text": [
      "Mean Height:  177.01875\n",
      "Median Height:  177.0\n",
      "Mode Height:  178\n"
     ]
    }
   ],
   "source": [
    "# Q3. Measure the three measures of central tendency for the given height data:\n",
    "# [178,177,176,177,178.2,178,175,179,180,175,178.9,176.2,177,172.5,178,176.5]\n",
    "\n",
    "import statistics\n",
    "\n",
    "height_data = [178, 177, 176, 177, 178.2, 178, 175, 179, 180, 175, 178.9, 176.2, 177, 172.5, 178, 176.5]\n",
    "\n",
    "mean_height = statistics.mean(height_data)\n",
    "median_height = statistics.median(height_data)\n",
    "mode_height = statistics.mode(height_data)\n",
    "\n",
    "print(\"Mean Height: \", mean_height)\n",
    "print(\"Median Height: \", median_height)\n",
    "print(\"Mode Height: \", mode_height)\n",
    "\n"
   ]
  },
  {
   "cell_type": "code",
   "execution_count": 2,
   "id": "7f0e85f1-336c-400a-8f85-494b7708c28a",
   "metadata": {},
   "outputs": [
    {
     "name": "stdout",
     "output_type": "stream",
     "text": [
      "Standard Deviation of Height:  1.8472389305844188\n"
     ]
    }
   ],
   "source": [
    "# Q4. Find the standard deviation for the given data:\n",
    "# [178,177,176,177,178.2,178,175,179,180,175,178.9,176.2,177,172.5,178,176.5]\n",
    "\n",
    "import statistics\n",
    "\n",
    "height_data = [178, 177, 176, 177, 178.2, 178, 175, 179, 180, 175, 178.9, 176.2, 177, 172.5, 178, 176.5]\n",
    "\n",
    "stdev_height = statistics.stdev(height_data)\n",
    "\n",
    "print(\"Standard Deviation of Height: \", stdev_height)\n",
    "\n",
    "\n",
    "\n"
   ]
  },
  {
   "cell_type": "code",
   "execution_count": null,
   "id": "0048e36f-938e-4d4a-9168-5178ab7a3f5a",
   "metadata": {},
   "outputs": [],
   "source": [
    "# Q5. How are measures of dispersion such as range, variance, and standard deviation used to describe\n",
    "# the spread of a dataset? Provide an example.\n",
    "'''\n",
    "Measures of dispersion such as range, variance, and standard deviation are used to describe the spread of a \n",
    "dataset by quantifying how much the data varies or deviates from the central tendency.\n",
    "\n",
    "Range: The range is the difference between the maximum and minimum values in a dataset. It provides a simple \n",
    "way to measure the spread of a dataset, but it is sensitive to outliers.\n",
    "\n",
    "Variance: The variance is the average of the squared differences from the mean of a dataset. It provides a \n",
    "more precise measure of the spread of the data, taking into account all values in the dataset.\n",
    "\n",
    "Standard Deviation: The standard deviation is the square root of the variance. It provides a measure of the \n",
    "spread of the data in the same units as the original data.\n",
    "\n",
    "For example, let's consider a dataset of daily temperatures in Celsius for a week: [22, 21, 20, 20, 23, 25, 24].\n",
    "The mean temperature is 22°C, and the standard deviation is 1.87°C. This tells us that the temperatures are generally\n",
    "clustered around the mean, but there is some variability. The range of the temperatures is 5°C (from 20°C to 25°C), \n",
    "which indicates that there is some variability in the temperature values, but it doesn't tell us how much each \n",
    "temperature deviates from the mean. The variance of the temperatures is 3.5°C^2, which provides a more precise\n",
    "measure of how the data varies from the mean. By using these measures, we can get a better understanding of the \n",
    "spread of the temperature data and make informed decisions based on the data.\n",
    "'''"
   ]
  },
  {
   "cell_type": "code",
   "execution_count": null,
   "id": "e4de6a55-12fd-4593-8408-357e44c1a7f9",
   "metadata": {},
   "outputs": [],
   "source": [
    "# Q6. What is a Venn diagram?\n",
    "'''\n",
    "A Venn diagram is a graphical representation of set theory that shows all possible logical relationships \n",
    "between a finite collection of sets.\n",
    "\n",
    "The Venn diagram is commonly used in mathematics, logic, and statistics to visually illustrate the relationships \n",
    "between sets. It is particularly useful in probability theory, where it can be used to calculate the probability \n",
    "of events based on their intersection and union with other events.\n",
    "'''"
   ]
  },
  {
   "cell_type": "code",
   "execution_count": null,
   "id": "a14d030f-8d47-41cd-8b3e-4f914c581afe",
   "metadata": {},
   "outputs": [],
   "source": [
    "# Q7. For the two given sets A = (2,3,4,5,6,7) & B = (0,2,6,8,10). Find:\n",
    "# (i) A intersection B\n",
    "# (ii) A  uninon  B\n",
    "\n",
    "'''\n",
    "A intersection B = {2,6}\n",
    "A union B = {0,2,3,4,5,6,7,8,10}\n",
    "'''"
   ]
  },
  {
   "cell_type": "code",
   "execution_count": null,
   "id": "114a6a72-7f29-4073-939f-71ef4b1b41e2",
   "metadata": {},
   "outputs": [],
   "source": [
    "# Q8. What do you understand about skewness in data?\n",
    "'''\n",
    "Skewness is a measure of the asymmetry of a probability distribution. It is a statistical measure that helps us\n",
    "to understand the shape of a dataset. A dataset can be either symmetric, positively skewed, or negatively skewed.\n",
    "\n",
    "Skewness can be measured using the skewness coefficient or skewness index, which indicates the degree of skewness\n",
    "in a dataset. A skewness coefficient of zero indicates a perfectly symmetric distribution, while a positive or \n",
    "negative skewness coefficient indicates a positively or negatively skewed distribution, respectively.\n",
    "\n",
    "Skewness is important to understand in data analysis because it can affect the interpretation of statistical \n",
    "measures such as the mean and standard deviation. A skewed dataset can also affect the choice of statistical \n",
    "tests and modeling techniques used for analysis.\n",
    "'''\n"
   ]
  },
  {
   "cell_type": "code",
   "execution_count": null,
   "id": "cb217d00-6888-4d8c-ac49-a00bfaed229a",
   "metadata": {},
   "outputs": [],
   "source": [
    "# Q9. If a data is right skewed then what will be the position of median with respect to mean?\n",
    "\n",
    "'''\n",
    "If a dataset is right-skewed, the median will be less than the mean.\n",
    "\n",
    "This is because in a right-skewed distribution, the tail of the distribution is longer on the \n",
    "right-hand side of the mean. This indicates that there are more extreme values on the right-hand side\n",
    "of the distribution, which can pull the mean towards the right and away from the median.\n",
    "\n",
    "In other words, the median is a measure of central tendency that is less sensitive to extreme values, while \n",
    "the mean is more sensitive to extreme values. Therefore, in a right-skewed distribution, the median will be\n",
    "closer to the bulk of the data, while the mean will be influenced by the extreme values on the right-hand \n",
    "side of the distribution.\n",
    "'''\n"
   ]
  },
  {
   "cell_type": "code",
   "execution_count": null,
   "id": "b2bff93d-1f8d-4e5d-978d-3b54a7ab8abb",
   "metadata": {},
   "outputs": [],
   "source": [
    "# Q10. Explain the difference between covariance and correlation. How are these measures used in\n",
    "# statistical analysis?\n",
    "\n",
    "'''\n",
    "Covariance and correlation are two statistical measures used to describe the relationship between two variables. While both measures are used to describe the degree to which two variables are related, \n",
    "there are some important differences between them.\n",
    "\n",
    "Covariance is a measure of the joint variability of two variables. It measures how two variables move together,\n",
    "or how they co-vary.\n",
    "\n",
    "Correlation, on the other hand, is a standardized measure of the linear relationship between two variables.\n",
    "It is a unitless measure that ranges between -1 and 1. A correlation coefficient of +1 indicates a perfect \n",
    "positive linear relationship, while a correlation coefficient of -1 indicates a perfect negative linear relationship.\n",
    "'''\n"
   ]
  },
  {
   "cell_type": "code",
   "execution_count": null,
   "id": "50515ae6-b7ba-4b71-863f-24b6e0673e19",
   "metadata": {},
   "outputs": [],
   "source": [
    "# Q11. What is the formula for calculating the sample mean? Provide an example calculation for a\n",
    "# dataset.\n",
    "\n",
    "'''\n",
    "The formula for calculating the sample mean (also known as the arithmetic mean) is:\n",
    "\n",
    "$\\bar{x} = \\frac{\\sum_{i=1}^{n} x_i}{n}$\n",
    "\n",
    "where:\n",
    "$\\bar{x}$ is the sample mean\n",
    "$x_i$ is the i-th observation in the dataset\n",
    "$n$ is the sample size\n",
    "\n",
    "Example:\n",
    "Suppose we have the following dataset:\n",
    "$x_1 = 5, x_2 = 10, x_3 = 8, x_4 = 12, x_5 = 6$\n",
    "To calculate the sample mean, we first add up all of the observations:\n",
    "$5 + 10 + 8 + 12 + 6 = 41$\n",
    "Next, we divide by the number of observations, which is 5:\n",
    "$\\bar{x} = \\frac{41}{5} = 8.2$\n",
    "Therefore, the sample mean for this dataset is 8.2.\n",
    "\n",
    "'''"
   ]
  },
  {
   "cell_type": "code",
   "execution_count": null,
   "id": "d621b9b7-9a42-409a-b0f6-5e4bfd7d2085",
   "metadata": {},
   "outputs": [],
   "source": [
    "# Q12. For a normal distribution data what is the relationship between its measure of central tendency?\n",
    "\n",
    "'''\n",
    "For a normal distribution, the measures of central tendency (mean, median, and mode) are all equal, and \n",
    "they are all good indicators of the central value of the distribution.\n",
    "'''"
   ]
  },
  {
   "cell_type": "code",
   "execution_count": null,
   "id": "1aa28dd3-d761-4896-9cdb-a37550e20ce9",
   "metadata": {},
   "outputs": [],
   "source": [
    "# Q13. How is covariance different from correlation?\n",
    "\n",
    "'''\n",
    "Covariance and correlation are both measures of the relationship between two variables, but they differ in \n",
    "several ways:\n",
    "\n",
    "Scale-dependence: Covariance is scale-dependent, which means that it is influenced by the scale of the variables.\n",
    "Correlation, on the other hand, is scale-invariant, which means that it is not influenced by the scale of the variables.\n",
    "\n",
    "Range: The range of values for covariance is not standardized, which means that it can take on any value,\n",
    "both positive and negative. The range of values for correlation is standardized, and it ranges from -1 \n",
    "(perfect negative correlation) to +1 (perfect positive correlation), with 0 indicating no correlation.\n",
    "\n",
    "Interpretation: Covariance measures the strength and direction of the relationship between two variables,\n",
    "but it is difficult to interpret because it is scale-dependent and its range is not standardized. \n",
    "Correlation, on the other hand, is more easily interpretable because it is standardized and its range\n",
    "is limited to -1 to +1.\n",
    "'''"
   ]
  },
  {
   "cell_type": "code",
   "execution_count": null,
   "id": "136e7e07-0d72-40e0-b080-dd97d93760e0",
   "metadata": {},
   "outputs": [],
   "source": [
    "# Q14. How do outliers affect measures of central tendency and dispersion? Provide an example.\n",
    "\n",
    "'''\n",
    "Outliers are extreme values that lie far away from the other values in a dataset. They can have a significant \n",
    "impact on measures of central tendency and dispersion.\n",
    "\n",
    "For measures of central tendency (mean, median, mode), outliers can pull the value of the central tendency away \n",
    "from the majority of the data. For example, consider the following dataset:\n",
    "\n",
    "[2, 4, 6, 8, 10, 200]\n",
    "\n",
    "The mean of this dataset is (2+4+6+8+10+200)/6 = 36.7. However, this value is heavily influenced by the \n",
    "outlier value of 200, which is much larger than the other values in the dataset. The median of this dataset is 7,\n",
    "which is a better indicator of the central tendency because it is not affected by the outlier.\n",
    "\n",
    "For measures of dispersion (range, variance, standard deviation), outliers can greatly increase the value of the \n",
    "measure. For example, consider the following dataset:\n",
    "\n",
    "[1, 2, 3, 4, 5, 200]\n",
    "\n",
    "The range of this dataset is 200 - 1 = 199, which is much larger than the range of the majority of the data. \n",
    "The variance and standard deviation of this dataset are also greatly affected by the outlier, resulting in larger\n",
    "values than if the outlier were not present.\n",
    "\n",
    "In summary, outliers can have a significant impact on measures of central tendency and dispersion, and it is important\n",
    "to identify and handle outliers appropriately in statistical analysis.\n",
    "'''\n"
   ]
  },
  {
   "cell_type": "code",
   "execution_count": null,
   "id": "b6f478de-d649-4069-90d1-5ae6f9a46d88",
   "metadata": {},
   "outputs": [],
   "source": []
  }
 ],
 "metadata": {
  "kernelspec": {
   "display_name": "Python 3 (ipykernel)",
   "language": "python",
   "name": "python3"
  },
  "language_info": {
   "codemirror_mode": {
    "name": "ipython",
    "version": 3
   },
   "file_extension": ".py",
   "mimetype": "text/x-python",
   "name": "python",
   "nbconvert_exporter": "python",
   "pygments_lexer": "ipython3",
   "version": "3.10.8"
  }
 },
 "nbformat": 4,
 "nbformat_minor": 5
}
