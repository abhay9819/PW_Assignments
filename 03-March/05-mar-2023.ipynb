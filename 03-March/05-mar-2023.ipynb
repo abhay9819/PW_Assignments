{
 "cells": [
  {
   "cell_type": "code",
   "execution_count": 13,
   "id": "37c54953-5b32-4510-bf2a-1b99bce4acae",
   "metadata": {},
   "outputs": [
    {
     "name": "stdout",
     "output_type": "stream",
     "text": [
      "figure(id='p2848', ...)\n"
     ]
    }
   ],
   "source": [
    "# Q1. How can you create a Bokeh plot using Python code?\n",
    "\n",
    "from bokeh.plotting import figure, output_file, show\n",
    "p = figure(width=500, height=500)\n",
    "p.circle(x=[1, 2, 3, 4, 5], y=[6, 7, 2, 4, 5], size=10, color=\"navy\", alpha=0.5)\n",
    "p.title.text = \"My Bokeh Plot\"\n",
    "p.xaxis.axis_label = \"X Axis\"\n",
    "p.yaxis.axis_label = \"Y Axis\"\n",
    "p.grid.grid_line_color = \"gray\"\n",
    "print(p)\n"
   ]
  },
  {
   "cell_type": "code",
   "execution_count": 14,
   "id": "63f48a62-05de-4f95-86f4-62624055c2df",
   "metadata": {},
   "outputs": [
    {
     "name": "stdout",
     "output_type": "stream",
     "text": [
      "figure(id='p2904', ...)\n"
     ]
    }
   ],
   "source": [
    "# Q2. What are glyphs in Bokeh, and how can you add them to a Bokeh plot? Explain with an example.\n",
    "\n",
    "'''\n",
    "Glyphs in Bokeh are visual shapes or markers used to represent data on a plot, such as circles, squares,\n",
    "lines, and text. Glyphs are added to a Bokeh plot by calling the appropriate glyph method on a figure object\n",
    "and passing in the data and visual properties.\n",
    "'''\n",
    "\n",
    "\n",
    "from bokeh.plotting import figure, output_file, show\n",
    "\n",
    "# sample data\n",
    "x = [1, 2, 3, 4, 5]\n",
    "y = [6, 7, 2, 4, 5]\n",
    "\n",
    "# create a new plot with circles as the glyph\n",
    "p = figure(title=\"My Scatter Plot\", x_axis_label=\"X Axis\", y_axis_label=\"Y Axis\")\n",
    "p.circle(x, y, size=10, color=\"navy\", alpha=0.5)\n",
    "\n",
    "# output the plot to an HTML file and show it in a web browser\n",
    "print(p)\n",
    "\n",
    "\n"
   ]
  },
  {
   "cell_type": "code",
   "execution_count": 12,
   "id": "a03d19e5-c80f-44a6-9a09-cd0d8149ceda",
   "metadata": {},
   "outputs": [
    {
     "name": "stdout",
     "output_type": "stream",
     "text": [
      "figure(id='p2777', ...)\n"
     ]
    }
   ],
   "source": [
    "# Q3. How can you customize the appearance of a Bokeh plot, including the axes, title, and legend?\n",
    "\n",
    "\n",
    "p = figure(title=\"My Bokeh Plot\")\n",
    "p.xaxis.axis_label = \"X Axis Label\"\n",
    "p.circle(x, y, legend_label=\"Data\", size=10, color=\"navy\", alpha=0.5)\n",
    "p.legend.location = \"top_left\"\n",
    "p.background_fill_color = \"beige\"\n",
    "p.border_fill_color = \"white\"\n",
    "p.grid.grid_line_color = \"gray\"\n",
    "p.grid.grid_line_alpha = 0.5\n",
    "print(p)\n"
   ]
  },
  {
   "cell_type": "code",
   "execution_count": null,
   "id": "5c116b7e-0173-43d2-be19-79cd7957a289",
   "metadata": {},
   "outputs": [],
   "source": [
    "# Q4. What is a Bokeh server, and how can you use it to create interactive plots that can be updated in\n",
    "# real time?\n",
    "'''\n",
    "A Bokeh server is a way to create and deploy interactive Bokeh plots that can be updated in real-time. \n",
    "The Bokeh server allows you to build rich, interactive applications with Bokeh that can run locally or \n",
    "on a server. With the Bokeh server, you can add callbacks to your plots that respond to user interactions\n",
    "such as mouse clicks, mouse movements, or widget changes.\n",
    "'''\n",
    "\n",
    "from bokeh.plotting import figure, curdoc\n",
    "from bokeh.models import ColumnDataSource\n",
    "from random import random\n",
    "\n",
    "# create a plot\n",
    "p = figure(x_range=(0, 1), y_range=(0, 1))\n",
    "source = ColumnDataSource(data=dict(x=[random()], y=[random()]))\n",
    "\n",
    "# add a circle glyph to the plot\n",
    "p.circle(x='x', y='y', size=10, source=source)\n",
    "\n",
    "# define a callback function that updates the data source\n",
    "def update():\n",
    "    new_data = dict(x=[random()], y=[random()])\n",
    "    source.stream(new_data)\n",
    "\n",
    "# add a button widget to the plot that calls the update function when clicked\n",
    "from bokeh.models import Button\n",
    "button = Button(label=\"Update\")\n",
    "button.on_click(update)\n",
    "p.add_layout(button)\n",
    "\n",
    "# add the plot to the document\n",
    "curdoc().add_root(p)\n"
   ]
  },
  {
   "cell_type": "code",
   "execution_count": null,
   "id": "b4c57b1d-c833-44ca-a95e-a98a2ad1b21a",
   "metadata": {},
   "outputs": [],
   "source": [
    "# Q5. How can you embed a Bokeh plot into a web page or dashboard using Flask or Django?\n",
    "'''\n",
    "Create your Bokeh plot as you normally would using Bokeh in Python code.\n",
    "\n",
    "Use Bokeh's json_item function to convert the plot into a JSON representation that can be embedded into a web page.\n",
    "\n",
    "In your Flask or Django web application, create a view that renders a template with a placeholder for the Bokeh plot.\n",
    "\n",
    "In the view, pass the JSON representation of the Bokeh plot to the template context.\n",
    "\n",
    "In the template, use JavaScript to load the Bokeh JavaScript library and create the Bokeh plot from the JSON representation.\n",
    "\n",
    "'''\n"
   ]
  }
 ],
 "metadata": {
  "kernelspec": {
   "display_name": "Python 3 (ipykernel)",
   "language": "python",
   "name": "python3"
  },
  "language_info": {
   "codemirror_mode": {
    "name": "ipython",
    "version": 3
   },
   "file_extension": ".py",
   "mimetype": "text/x-python",
   "name": "python",
   "nbconvert_exporter": "python",
   "pygments_lexer": "ipython3",
   "version": "3.10.8"
  }
 },
 "nbformat": 4,
 "nbformat_minor": 5
}
