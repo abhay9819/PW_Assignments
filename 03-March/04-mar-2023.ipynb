{
 "cells": [
  {
   "cell_type": "code",
   "execution_count": null,
   "id": "19ced5fb-6df2-467f-bbca-121463efc374",
   "metadata": {},
   "outputs": [],
   "source": [
    "# Q1. Load the \"titanic\" dataset using the load_dataset function of seaborn. Use Plotly express to plot a\n",
    "# scatter plot for age and fare columns in the titanic dataset.\n",
    "\n",
    "\n",
    "import seaborn as sns\n",
    "import plotly.express as px\n",
    "\n",
    "# Load the titanic dataset\n",
    "titanic = sns.load_dataset(\"titanic\")\n",
    "\n",
    "# Create a scatter plot for age and fare columns\n",
    "fig = px.scatter(titanic, x=\"age\", y=\"fare\")\n",
    "\n",
    "# Show the plot\n",
    "fig.show()\n",
    "\n"
   ]
  },
  {
   "cell_type": "code",
   "execution_count": null,
   "id": "33b00e94-2ccf-4c24-8934-215ca649315d",
   "metadata": {},
   "outputs": [],
   "source": [
    "# Q2. Using the tips dataset in the Plotly library, plot a box plot using Plotly express.\n",
    "\n",
    "import plotly.express as px\n",
    "\n",
    "# Load the tips dataset\n",
    "tips = px.data.tips()\n",
    "\n",
    "# Create a box plot for the total_bill column\n",
    "fig = px.box(tips, x=\"day\", y=\"total_bill\")\n",
    "\n",
    "# Show the plot\n",
    "fig.show()\n",
    "\n"
   ]
  },
  {
   "cell_type": "code",
   "execution_count": null,
   "id": "c631e072-1308-4309-ab87-27f2b0abf7d4",
   "metadata": {},
   "outputs": [],
   "source": [
    "# Q3. Using the tips dataset in the Plotly library, Plot a histogram for x= \"sex\" and y=\"total_bill\" column in\n",
    "# the tips dataset. Also, use the \"smoker\" column with the pattern_shape parameter and the \"day\"\n",
    "# column with the color parameter.\n",
    "\n",
    "import plotly.express as px\n",
    "\n",
    "# Load the tips dataset\n",
    "tips = px.data.tips()\n",
    "\n",
    "# Create a histogram with sex on the x-axis, total bill on the y-axis, and color-coded by day\n",
    "fig = px.histogram(tips, x=\"sex\", y=\"total_bill\", color=\"day\", histfunc=\"sum\",\n",
    "                   pattern_shape=\"smoker\", nbins=20)\n",
    "\n",
    "# Show the plot\n",
    "fig.show()\n",
    "\n"
   ]
  },
  {
   "cell_type": "code",
   "execution_count": null,
   "id": "04aeacc3-fc79-4fd8-912c-f534489455c8",
   "metadata": {},
   "outputs": [],
   "source": [
    "# Q4. Using the iris dataset in the Plotly library, Plot a scatter matrix plot, using the \"species\" column for\n",
    "# the color parameter.\n",
    "\n",
    "import plotly.express as px\n",
    "\n",
    "# Load the iris dataset\n",
    "iris = px.data.iris()\n",
    "\n",
    "# Create a scatter matrix plot with species as the color parameter\n",
    "fig = px.scatter_matrix(iris, dimensions=[\"sepal_length\", \"sepal_width\", \"petal_length\", \"petal_width\"],\n",
    "                        color=\"species\")\n",
    "\n",
    "# Show the plot\n",
    "fig.show()\n",
    "\n"
   ]
  },
  {
   "cell_type": "code",
   "execution_count": null,
   "id": "d091c84e-3752-4ee2-9828-335d9f4311f7",
   "metadata": {},
   "outputs": [],
   "source": [
    "# Q5. What is Distplot? Using Plotly express, plot a distplot.\n",
    "'''\n",
    "Distplot is a seaborn function used to visualize the distribution of a univariate set of observations. \n",
    "It combines a histogram and a kernel density estimate, which provides a smooth curve that shows the \n",
    "shape of the distribution.\n",
    "'''\n",
    "\n",
    "import plotly.express as px\n",
    "\n",
    "# Load the tips dataset\n",
    "tips = px.data.tips()\n",
    "\n",
    "# Create a distplot for the total bill column\n",
    "fig = px.histogram(tips, x=\"total_bill\", nbins=30, opacity=0.7, marginal=\"rug\", kde=True)\n",
    "\n",
    "# Show the plot\n",
    "fig.show()\n",
    "\n"
   ]
  },
  {
   "cell_type": "code",
   "execution_count": null,
   "id": "ce2ddc30-1424-4389-aafa-4f0486d5906d",
   "metadata": {},
   "outputs": [],
   "source": []
  }
 ],
 "metadata": {
  "kernelspec": {
   "display_name": "Python 3 (ipykernel)",
   "language": "python",
   "name": "python3"
  },
  "language_info": {
   "codemirror_mode": {
    "name": "ipython",
    "version": 3
   },
   "file_extension": ".py",
   "mimetype": "text/x-python",
   "name": "python",
   "nbconvert_exporter": "python",
   "pygments_lexer": "ipython3",
   "version": "3.10.8"
  },
  "toc-autonumbering": false,
  "toc-showmarkdowntxt": false
 },
 "nbformat": 4,
 "nbformat_minor": 5
}
