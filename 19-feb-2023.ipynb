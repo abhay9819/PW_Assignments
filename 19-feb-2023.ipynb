{
 "cells": [
  {
   "cell_type": "code",
   "execution_count": null,
   "id": "b1fe9198-dc0b-4023-a7ee-e3bba11d5192",
   "metadata": {},
   "outputs": [],
   "source": [
    "# Q1:\n",
    "# What is Flask Framework? What are the advantages of Flask Framework?\n",
    "\"\"\"\n",
    "Flask is a micro web framework for building web applications in Python. It was developed \n",
    "to be simple and lightweight, with few dependencies and a modular design that allows developers \n",
    "to add only the features they need. \n",
    "\n",
    "Advantages:\n",
    "Lightweight and flexible\n",
    "modular \n",
    "easy to learn\n",
    "extensible \n",
    "versatile\n",
    "large community\n",
    "\"\"\""
   ]
  },
  {
   "cell_type": "code",
   "execution_count": null,
   "id": "eb0b3d29-94fc-48b4-8a17-525b832cb1d9",
   "metadata": {},
   "outputs": [],
   "source": [
    "# Q2:\n",
    "# Create a simple Flask application to display ‘Hello World!!’. Attach the screenshot of the output in\n",
    "# Jupyter Notebook.\n",
    "\n",
    "from flask import Flask\n",
    "\n",
    "app = Flask(__name__)\n",
    "\n",
    "@app.route('/')\n",
    "def hello():\n",
    "    return 'Hello World!!'\n",
    "\n",
    "app.run()\n"
   ]
  },
  {
   "cell_type": "markdown",
   "id": "1f401b18-8a96-46e6-b140-a5e3ec12c9f1",
   "metadata": {},
   "source": []
  },
  {
   "cell_type": "code",
   "execution_count": null,
   "id": "537a7728-f50f-418d-ad71-6be78e3827dc",
   "metadata": {},
   "outputs": [],
   "source": [
    "# Q3:\n",
    "# What is App routing in Flask? Why do we use app routes?\n",
    "\"\"\"\n",
    "In Flask, routing refers to the process of binding a URL to a function that returns a response. \n",
    "This is done using the @app.route decorator, which is used to define the URL pattern and the \n",
    "function that should be executed when a user requests that URL.\n",
    "\"\"\""
   ]
  },
  {
   "cell_type": "code",
   "execution_count": null,
   "id": "17a8d800-347f-4e15-8d1f-4bd07288792c",
   "metadata": {},
   "outputs": [],
   "source": [
    "# Q4:\n",
    "# Create a “/welcome” route to display the welcome message “Welcome to ABC Corporation” and a “/”\n",
    "# route to show the following details:\n",
    "# Company Name: ABC Corporation\n",
    "# Location: India\n",
    "# Contact Detail: 999-999-9999\n",
    "\n",
    "from flask import Flask\n",
    "\n",
    "app = Flask(__name__)\n",
    "\n",
    "@app.route('/')\n",
    "def company_details():\n",
    "    return \"\"\"Company Name: ABC Corporation\n",
    "    Location: India\n",
    "    Contact Detail: 999-999-9999\"\"\"\n",
    "\n",
    "@app.route('/welcome')\n",
    "def welcome_message():\n",
    "    return 'Welcome to ABC Corporation'\n"
   ]
  },
  {
   "cell_type": "code",
   "execution_count": null,
   "id": "824b7aff-7c94-46b2-8270-87feaf57ea9e",
   "metadata": {},
   "outputs": [],
   "source": [
    "# Q5:\n",
    "# What function is used in Flask for URL Building? Write a Python code to demonstrate the working of the\n",
    "# url_for() function.\n",
    "\"\"\"\n",
    "In Flask, the url_for() function is used for URL building. This function takes the endpoint\n",
    "name and any arguments as inputs, and returns the URL for that endpoint.\n",
    "\"\"\"\n",
    "from flask import Flask, url_for\n",
    "\n",
    "app = Flask(__name__)\n",
    "\n",
    "@app.route('/')\n",
    "def index():\n",
    "    return 'This is the home page.'\n",
    "\n",
    "@app.route('/about')\n",
    "def about():\n",
    "    return 'This is the about page.'\n",
    "\n",
    "@app.route('/contact')\n",
    "def contact():\n",
    "    return 'This is the contact page.'\n",
    "\n",
    "@app.route('/user/<username>')\n",
    "def user_profile(username):\n",
    "    return f'This is {username}\\'s profile page.'\n",
    "\n",
    "@app.route('/login')\n",
    "def login():\n",
    "    return 'Please enter your login credentials.'\n",
    "\n",
    "with app.test_request_context():\n",
    "    # Generate a URL for the index() function\n",
    "    print(url_for('index'))\n",
    "    # Generate a URL for the about() function\n",
    "    print(url_for('about'))\n",
    "    # Generate a URL for the contact() function\n",
    "    print(url_for('contact'))\n",
    "    # Generate a URL for the user_profile() function, with the argument 'john'\n",
    "    print(url_for('user_profile', username='Abhay'))\n",
    "\n"
   ]
  }
 ],
 "metadata": {
  "kernelspec": {
   "display_name": "Python 3 (ipykernel)",
   "language": "python",
   "name": "python3"
  },
  "language_info": {
   "codemirror_mode": {
    "name": "ipython",
    "version": 3
   },
   "file_extension": ".py",
   "mimetype": "text/x-python",
   "name": "python",
   "nbconvert_exporter": "python",
   "pygments_lexer": "ipython3",
   "version": "3.10.8"
  }
 },
 "nbformat": 4,
 "nbformat_minor": 5
}
