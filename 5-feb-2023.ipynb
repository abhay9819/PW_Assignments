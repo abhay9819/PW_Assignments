{
 "cells": [
  {
   "cell_type": "code",
   "execution_count": null,
   "id": "660774d5-96d5-48a8-92e7-8b00c1a4d930",
   "metadata": {},
   "outputs": [],
   "source": [
    "\"\"\" \n",
    "Q1: Explain Class and Object with respect to Object-Oriented Programming. Give a suitable example.\n",
    "Ans: Class: In object-oriented programming, a class is a blueprint for creating objects (a particular data structure),\n",
    "providing initial values for state (member variables or attributes), and implementations of behavior \n",
    "(member functionsor methods).\n",
    "Object: An object is an instance of a class, created at runtime, which represents a particular entity in the real world\n",
    "with its attributes (data) and behaviors (methods).\n",
    "\n",
    "Example: Let's consider a class named \"Person\" with attributes like \"name\", \"age\", \"gender\" and methods like \"speak()\",\n",
    "\"eat()\". An object could be created from this class, say \"John\", with the values of \"John\" for name, \"30\" for age, \"Male\"\n",
    "for gender.\n",
    "\n",
    "So, class is a blueprint and object is an instance of a class.\n",
    "\"\"\""
   ]
  },
  {
   "cell_type": "code",
   "execution_count": null,
   "id": "3c7b81e7-b52e-44c8-9fc2-6140a8e17e42",
   "metadata": {},
   "outputs": [],
   "source": [
    "\"\"\"\n",
    "Q2: Name the four pillars of OOPs.\n",
    "Ans: Abstraction, Inheritance, Polymorphism, Encapsulation.\n",
    "\"\"\""
   ]
  },
  {
   "cell_type": "code",
   "execution_count": null,
   "id": "e58af66d-f3ef-4063-a080-7468a113a15d",
   "metadata": {},
   "outputs": [],
   "source": [
    "\"\"\"\n",
    "Q3: Why self is used in OOPs?\n",
    "Ans: In object-oriented programming (OOP), the self keyword is used as a reference to the instance of the class that\n",
    "is calling the method. It is equivalent to the this keyword in other programming languages.\n",
    "The use of self allows instances of a class to access and modify their own attributes,\n",
    "and it also helps to distinguish between instance variables and class variables or local variables with the same name.\n",
    "By convention, self is always used as the first parameter in class methods in Python.\n",
    "\"\"\""
   ]
  },
  {
   "cell_type": "code",
   "execution_count": null,
   "id": "53204f2c-6f7c-4c09-893a-9674c53fa6c4",
   "metadata": {},
   "outputs": [],
   "source": [
    "\"\"\"\n",
    "Q4: What is inheritance? Give an example for each type of inheritance.\n",
    "Ans: Inheritance is a mechanism in object-oriented programming (OOP) where one class (the subclass)\n",
    "inherits properties and behavior from another class (the superclass). The subclass can add or override properties\n",
    "and behavior from the superclass, allowing for code reusability and a clear hierarchy of classes.\n",
    "Types: Single Inheritance, Multiple Inheritance, Multilevel Inheritance, Heirarchical Inheritance, Hyrid Inheritance\n",
    "\"\"\""
   ]
  }
 ],
 "metadata": {
  "kernelspec": {
   "display_name": "Python 3 (ipykernel)",
   "language": "python",
   "name": "python3"
  },
  "language_info": {
   "codemirror_mode": {
    "name": "ipython",
    "version": 3
   },
   "file_extension": ".py",
   "mimetype": "text/x-python",
   "name": "python",
   "nbconvert_exporter": "python",
   "pygments_lexer": "ipython3",
   "version": "3.10.8"
  }
 },
 "nbformat": 4,
 "nbformat_minor": 5
}
