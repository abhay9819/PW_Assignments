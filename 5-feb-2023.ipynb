{
 "cells": [
  {
   "cell_type": "raw",
   "id": "efc1703d-faea-40ab-a964-6c9176616e26",
   "metadata": {},
   "source": [
    "Q1: Explain Class and Object with respect to Object-Oriented Programming. Give a suitable example.\n",
    "Ans: Class: In object-oriented programming, a class is a blueprint for creating objects (a particular data structure), providing initial values for state (member variables or attributes), and implementations of behavior (member functions or methods).\n",
    "Object: An object is an instance of a class, created at runtime, which represents a particular entity in the real world with its attributes (data) and behaviors (methods).\n",
    "\n",
    "Example: Let's consider a class named \"Person\" with attributes like \"name\", \"age\", \"gender\" and methods like \"speak()\", \"eat()\". An object could be created from this class, say \"John\", with the values of \"John\" for name, \"30\" for age, \"Male\" for gender.\n",
    "So, class is a blueprint and object is an instance of a class."
   ]
  },
  {
   "cell_type": "raw",
   "id": "7c8f62a1-6714-43db-9e77-184079881f74",
   "metadata": {},
   "source": [
    "Q2: Name the four pillars of OOPs.\n",
    "Ans: Abstraction, Inheritance, Polymorphism, Encapsulation."
   ]
  },
  {
   "cell_type": "raw",
   "id": "1520beda-0ddb-45ff-83b0-f9794541f171",
   "metadata": {},
   "source": [
    "Q3: Why self is used in OOPs?\n",
    "Ans: In object-oriented programming (OOP), the self keyword is used as a reference to the instance of the class that is calling the method. It is equivalent to the this keyword in other programming languages. The use of self allows instances of a class to access and modify their own attributes, and it also helps to distinguish between instance variables and class variables or local variables with the same name. By convention, self is always used as the first parameter in class methods in Python."
   ]
  },
  {
   "cell_type": "raw",
   "id": "729ed6b3-7a30-4a8a-9738-44ad36d57c55",
   "metadata": {},
   "source": [
    "Q4: What is inheritance? Give an example for each type of inheritance.\n",
    "Ans: Inheritance is a mechanism in object-oriented programming (OOP) where one class (the subclass) inherits properties and behavior from another class (the superclass). The subclass can add or override properties and behavior from the superclass, allowing for code reusability and a clear hierarchy of classes.\n",
    "Types: Single Inheritance, Multiple Inheritance, Multilevel Inheritance, Heirarchical Inheritance, Hyrid Inheritance"
   ]
  }
 ],
 "metadata": {
  "kernelspec": {
   "display_name": "Python 3 (ipykernel)",
   "language": "python",
   "name": "python3"
  },
  "language_info": {
   "codemirror_mode": {
    "name": "ipython",
    "version": 3
   },
   "file_extension": ".py",
   "mimetype": "text/x-python",
   "name": "python",
   "nbconvert_exporter": "python",
   "pygments_lexer": "ipython3",
   "version": "3.10.8"
  }
 },
 "nbformat": 4,
 "nbformat_minor": 5
}
