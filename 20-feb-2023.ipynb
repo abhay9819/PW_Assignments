{
 "cells": [
  {
   "cell_type": "code",
   "execution_count": 1,
   "id": "d84ab46f-053b-4a69-ac86-f05753cfe91c",
   "metadata": {},
   "outputs": [],
   "source": [
    "# Q1:\n",
    "# Explain GET and POST methods.\n",
    "\"\"\"\n",
    "In HTTP, the GET and POST methods are two of the most commonly used methods for sending data \n",
    "from a client (such as a web browser) to a server.\n",
    "\n",
    "The GET method is used to retrieve data from a server.When a client sends a GET request, \n",
    "it includes any data in the URL itself, as a query string.\n",
    "\n",
    "The POST method, on the other hand, is used to submit data to a server.When a client sends a \n",
    "POST request, it includes any data in the request body, rather than in the URL.\n",
    "\"\"\""
   ]
  },
  {
   "cell_type": "code",
   "execution_count": 2,
   "id": "e808ecff-eb0b-4dbc-a53b-9742228907ed",
   "metadata": {},
   "outputs": [],
   "source": [
    "# Q2:\n",
    "# Why is request used in Flask?\n",
    "\"\"\"\n",
    "In Flask, the request object is used to access incoming request data, such as form data \n",
    "or query parameters, in a Flask route function. The request object is provided by the \n",
    "Flask framework and allows you to access the data sent by a client as part of an HTTP request.\n",
    "\"\"\"\n"
   ]
  },
  {
   "cell_type": "code",
   "execution_count": null,
   "id": "0ed8a69c-d272-4b1d-9ae2-bd3db033477c",
   "metadata": {},
   "outputs": [],
   "source": [
    "# Q3:\n",
    "# Why is redirect() used in Flask?\n",
    "\"\"\"\n",
    "In Flask, the redirect() function is used to redirect the user to a different URL. \n",
    "This function takes a URL as an argument and returns a response that redirects the user's \n",
    "browser to the specified URL.\n",
    "\n",
    "The redirect() function is commonly used in Flask applications to implement various \n",
    "types of functionality. Such as:\n",
    "\n",
    "Redirecting after a form submission\n",
    "Implementing login/logout functionality\n",
    "Handling errors and exceptions\n",
    "\"\"\""
   ]
  },
  {
   "cell_type": "code",
   "execution_count": null,
   "id": "9394dbbe-640c-4f79-a293-e7cf9da2f133",
   "metadata": {},
   "outputs": [],
   "source": [
    "# Q4:\n",
    "# What are templates in Flask? Why is the render_template() function used?\n",
    "\"\"\"\n",
    "In Flask, templates are used to generate dynamic HTML pages by combining pre-defined HTML\n",
    "code with data from a Flask application. A template is essentially an HTML file that contains\n",
    "placeholders for dynamic content, which can be filled in by a Flask application at runtime.\n",
    "\n",
    "The render_template() function is used to generate a response from a Flask route function that uses\n",
    "a template. This function takes the name of a template file as its first argument, and any additional\n",
    "keyword arguments as variables that should be passed to the template. The function then renders the \n",
    "template with the given variables and returns the resulting HTML as a response.\n",
    "\"\"\""
   ]
  },
  {
   "cell_type": "code",
   "execution_count": null,
   "id": "50a1e44a-ae1e-4698-bd10-8fb4a3264ef8",
   "metadata": {},
   "outputs": [],
   "source": [
    "# Q5:\n",
    "# Create a simple API. Use Postman to test it. Attach the screenshot of the output in the Jupyter Notebook.\n",
    "\n",
    "from flask import Flask, jsonify, request\n",
    "\n",
    "app = Flask(__name__)\n",
    "\n",
    "# Define a simple API endpoint\n",
    "@app.route('/greet', methods=['GET'])\n",
    "def greet():\n",
    "    name = request.args.get('name')\n",
    "    greeting = f'Hello, {name}!' if name else 'Hello!'\n",
    "    return jsonify({'message': greeting})\n",
    "\n",
    "if __name__ == '__main__':\n",
    "    app.run(debug=True)\n"
   ]
  }
 ],
 "metadata": {
  "kernelspec": {
   "display_name": "Python 3 (ipykernel)",
   "language": "python",
   "name": "python3"
  },
  "language_info": {
   "codemirror_mode": {
    "name": "ipython",
    "version": 3
   },
   "file_extension": ".py",
   "mimetype": "text/x-python",
   "name": "python",
   "nbconvert_exporter": "python",
   "pygments_lexer": "ipython3",
   "version": "3.10.8"
  }
 },
 "nbformat": 4,
 "nbformat_minor": 5
}
