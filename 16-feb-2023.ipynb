{
 "cells": [
  {
   "cell_type": "code",
   "execution_count": null,
   "id": "cc9c54ba-6e5b-4300-a278-127e18a09673",
   "metadata": {},
   "outputs": [],
   "source": [
    "# Q1:\n",
    "# What is a database? Differentiate between SQL and NoSQL databases.\n",
    "\"\"\"\n",
    "A database is a collection of data organized and stored in a structured way that \n",
    "allows for efficient retrieval and manipulation of data. Databases are used in a wide\n",
    "range of applications, including e-commerce, social media, banking, healthcare, and more.\n",
    "\n",
    "SQL (Structured Query Language) and NoSQL (Not Only SQL) are two types of databases \n",
    "that differ in the way they store and retrieve data:\n",
    "\n",
    "SQL databases are relational databases that store data in tables with a \n",
    "predefined structure. SQL databases use SQL as the standard language for accessing\n",
    "and manipulating data. SQL databases are typically used for applications that require\n",
    "complex queries and transactions, such as financial systems, ERP systems, and data warehousing.\n",
    "Examples of SQL databases include MySQL, Oracle, and PostgreSQL.\n",
    "\n",
    "NoSQL databases are non-relational databases that store data in various formats, \n",
    "including key-value pairs, documents, graphs, or columns. NoSQL databases are often \n",
    "used in big data applications where large amounts of unstructured or semi-structured \n",
    "data are processed, such as social media platforms, e-commerce, and IoT. NoSQL databases do not \n",
    "require a fixed schema, and they are more flexible and scalable than SQL databases. Examples of \n",
    "NoSQL databases include MongoDB, Cassandra, and Couchbase.\n",
    "\"\"\""
   ]
  },
  {
   "cell_type": "code",
   "execution_count": null,
   "id": "b71607e5-59cc-4c41-94ec-1e6c1d05a798",
   "metadata": {},
   "outputs": [],
   "source": [
    "# Q2:\n",
    "# What is DDL? Explain why CREATE, DROP, ALTER, and TRUNCATE are used with an example.\n",
    "\"\"\"\n",
    "DDL stands for Data Definition Language, which is a set of SQL commands used to define \n",
    "and manipulate the structure of a database. DDL commands are used to create, modify, and \n",
    "delete database objects such as tables, views, indexes, and constraints.\n",
    "\"\"\"\n",
    "# CREATE: The CREATE command is used to create a new database object, such as a table, view, or index.\n",
    "CREATE TABLE employees (\n",
    "  employee_id int PRIMARY KEY,\n",
    "  first_name varchar(50) NOT NULL,\n",
    "  last_name varchar(50) NOT NULL,\n",
    "  email varchar(100)\n",
    ");\n",
    "\n",
    "# DROP: The DROP command is used to delete a database object, such as a table, view, or index.\n",
    "DROP TABLE employees;\n",
    "\n",
    "# The ALTER command is used to modify the structure of an existing database object, such as a table\n",
    "ALTER TABLE employees\n",
    "ADD phone varchar(20);\n",
    "\n",
    "# TRUNCATE: The TRUNCATE command is used to remove all data from a table.\n",
    "TRUNCATE TABLE employees;\n",
    "\n",
    "\n"
   ]
  },
  {
   "cell_type": "code",
   "execution_count": null,
   "id": "9724d262-210c-4140-919c-8361f2698cdb",
   "metadata": {},
   "outputs": [],
   "source": [
    "# Q3:\n",
    "# What is DML? Explain INSERT, UPDATE, and DELETE with an example.\n",
    "\"\"\"\n",
    "DML stands for Data Manipulation Language, which is a set of SQL commands used to \n",
    "manipulate the data stored in a database. DML commands are used to insert, update, \n",
    "and delete data in tables.\n",
    "\"\"\"\n",
    "\n",
    "# INSERT: The INSERT command is used to insert new data into a table.\n",
    "INSERT INTO customers (id, name, email)\n",
    "VALUES (1, 'John Smith', 'john@example.com');\n",
    "\n",
    "# UPDATE: The UPDATE command is used to update existing data in a table\n",
    "UPDATE customers\n",
    "SET email = 'jsmith@example.com'\n",
    "WHERE id = 1;\n",
    "\n",
    "# DELETE: The DELETE command is used to delete data from a table.\n",
    "DELETE FROM customers\n",
    "WHERE id = 1;\n"
   ]
  },
  {
   "cell_type": "code",
   "execution_count": 5,
   "id": "a54df446-f027-4f87-b27e-d1c772e0bd3d",
   "metadata": {},
   "outputs": [],
   "source": [
    "# Q4:\n",
    "# What is DQL? Explain SELECT with an example.\n",
    "\"\"\"\n",
    "DQL stands for Data Query Language, which is a set of SQL commands used to retrieve data \n",
    "from a database. DQL commands are used to retrieve data from one or more tables in a database.\n",
    "\"\"\"\n",
    "# Here's an example of how to use the SELECT statement to retrieve all data from a \"customers\" table:\n",
    "SELECT * FROM customers;\n"
   ]
  },
  {
   "cell_type": "code",
   "execution_count": null,
   "id": "0113c890-0b20-4271-bb86-c28532c6eac2",
   "metadata": {},
   "outputs": [],
   "source": [
    "# Q5:\n",
    "# Explain Primary Key and Foreign Key.\n",
    "\"\"\"\n",
    "Primary Key: A primary key is a column or set of columns in a table that uniquely \n",
    "identifies each row in the table.\n",
    "\n",
    "Foreign Key: A foreign key is a column or set of columns in one table that refers to the \n",
    "primary key of another table.\n",
    "\"\"\"\n"
   ]
  },
  {
   "cell_type": "code",
   "execution_count": 6,
   "id": "351747b3-86ec-4fcd-9f33-dd2fc928a6e7",
   "metadata": {},
   "outputs": [],
   "source": [
    "# Q6:\n",
    "# Write a python code to connect MySQL to python. Explain the cursor() and execute() method.\n",
    "\n",
    "import mysql.connector\n",
    "\n",
    "mydb = mysql.connector.connect(\n",
    "  host=\"localhost\",\n",
    "  user=\"yourusername\",\n",
    "  password=\"yourpassword\",\n",
    "  database=\"yourdatabase\"\n",
    ")\n",
    "\n",
    "mycursor = mydb.cursor()\n",
    "\n",
    "mycursor.execute(\"SELECT * FROM yourtable\")\n",
    "\n",
    "myresult = mycursor.fetchall()\n",
    "\n",
    "for x in myresult:\n",
    "    print(x)\n",
    "\n",
    "\n",
    "\"\"\"\n",
    "The cursor() method is used to create a cursor object, which is used to execute SQL statements \n",
    "and to retrieve data from the database. The execute() method of the cursor object is used to \n",
    "execute an SQL statement.\n",
    "\"\"\""
   ]
  },
  {
   "cell_type": "code",
   "execution_count": null,
   "id": "0c996f1c-e0c2-4422-bc87-1108e3c63727",
   "metadata": {},
   "outputs": [],
   "source": [
    "# Q7:\n",
    "    "
   ]
  }
 ],
 "metadata": {
  "kernelspec": {
   "display_name": "Python 3 (ipykernel)",
   "language": "python",
   "name": "python3"
  },
  "language_info": {
   "codemirror_mode": {
    "name": "ipython",
    "version": 3
   },
   "file_extension": ".py",
   "mimetype": "text/x-python",
   "name": "python",
   "nbconvert_exporter": "python",
   "pygments_lexer": "ipython3",
   "version": "3.10.8"
  }
 },
 "nbformat": 4,
 "nbformat_minor": 5
}
