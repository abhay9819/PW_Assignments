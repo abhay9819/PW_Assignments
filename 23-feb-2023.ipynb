{
 "cells": [
  {
   "cell_type": "code",
   "execution_count": 1,
   "id": "2fa44f43-29c6-4f4b-b3d2-482de0197cad",
   "metadata": {},
   "outputs": [
    {
     "name": "stdout",
     "output_type": "stream",
     "text": [
      "0     4\n",
      "1     8\n",
      "2    15\n",
      "3    16\n",
      "4    23\n",
      "5    42\n",
      "dtype: int64\n"
     ]
    }
   ],
   "source": [
    "# Q1: \n",
    "# Create a Pandas Series that contains the following data: 4, 8, 15, 16, 23, and 42. Then, print the series.\n",
    "\n",
    "import pandas as pd\n",
    "\n",
    "data = [4, 8, 15, 16, 23, 42]\n",
    "series = pd.Series(data)\n",
    "\n",
    "print(series)\n"
   ]
  },
  {
   "cell_type": "code",
   "execution_count": 2,
   "id": "500fc0a5-031f-4b58-9acb-92ab4c1bb411",
   "metadata": {},
   "outputs": [
    {
     "name": "stdout",
     "output_type": "stream",
     "text": [
      "0     10\n",
      "1     20\n",
      "2     30\n",
      "3     40\n",
      "4     50\n",
      "5     60\n",
      "6     70\n",
      "7     80\n",
      "8     90\n",
      "9    100\n",
      "dtype: int64\n"
     ]
    }
   ],
   "source": [
    "# Q2:\n",
    "# Create a variable of list type containing 10 elements in it, and apply pandas.Series function on the\n",
    "# variable print it.\n",
    "\n",
    "import pandas as pd\n",
    "\n",
    "my_list = [10, 20, 30, 40, 50, 60, 70, 80, 90, 100]\n",
    "my_series = pd.Series(my_list)\n",
    "\n",
    "print(my_series)\n"
   ]
  },
  {
   "cell_type": "code",
   "execution_count": 3,
   "id": "58542425-34eb-4622-9a67-e78be5770829",
   "metadata": {},
   "outputs": [
    {
     "name": "stdout",
     "output_type": "stream",
     "text": [
      "     Name  Age  Gender\n",
      "0   Alice   25  Female\n",
      "1     Bob   30    Male\n",
      "2  Claire   27  Female\n"
     ]
    }
   ],
   "source": [
    "# Q3:\n",
    "# Create a Pandas DataFrame that contains the following data:\n",
    "\n",
    "import pandas as pd\n",
    "\n",
    "data = {'Name': ['Alice', 'Bob', 'Claire'],\n",
    "        'Age': [25, 30, 27],\n",
    "        'Gender': ['Female', 'Male', 'Female']}\n",
    "\n",
    "df = pd.DataFrame(data)\n",
    "\n",
    "print(df)\n"
   ]
  },
  {
   "cell_type": "code",
   "execution_count": 5,
   "id": "830f2b68-eff1-4d8b-9c63-1b028cd958fe",
   "metadata": {},
   "outputs": [
    {
     "name": "stdout",
     "output_type": "stream",
     "text": [
      "     Name  Age\n",
      "0   Alice   25\n",
      "1     Bob   30\n",
      "2  Claire   27\n",
      "0    25\n",
      "1    30\n",
      "2    27\n",
      "Name: Age, dtype: int64\n"
     ]
    }
   ],
   "source": [
    "# Q4:\n",
    "# What is ‘DataFrame’ in pandas and how is it different from pandas.series? Explain with an example.\n",
    "\"\"\"\n",
    "A DataFrame is a 2-dimensional labeled data structure with columns of potentially different types.\n",
    "It is similar to a spreadsheet or a SQL table.\n",
    "\n",
    "On the other hand, a Series is a one-dimensional labeled data structure with a single column of data. \n",
    "It is similar to a column in a spreadsheet or a SQL table. \n",
    "\n",
    "The main difference between a DataFrame and a Series is that a DataFrame is a 2-dimensional \n",
    "data structure that can store multiple columns of data, whereas a Series isa 1-dimensional\n",
    "data structure that can only store a single column of data.\n",
    "\"\"\"\n",
    "\n",
    "# Example:\n",
    "import pandas as pd\n",
    "\n",
    "# create a dictionary with two Series\n",
    "data = {'Name': pd.Series(['Alice', 'Bob', 'Claire']),\n",
    "        'Age': pd.Series([25, 30, 27])}\n",
    "\n",
    "# create a DataFrame from the dictionary\n",
    "df = pd.DataFrame(data)\n",
    "\n",
    "# create a Series from one of the columns in the DataFrame\n",
    "ages = df['Age']\n",
    "\n",
    "print(df)\n",
    "print(ages)\n"
   ]
  },
  {
   "cell_type": "code",
   "execution_count": null,
   "id": "1f40cd0f-31fd-4711-94cc-486a4fdc0b04",
   "metadata": {},
   "outputs": [],
   "source": [
    "# Q5:\n",
    "# What are some common functions you can use to manipulate data in a Pandas DataFrame? Can\n",
    "# you give an example of when you might use one of these functions?\n",
    "\"\"\"\n",
    "head() and tail(): These functions are used to view the first and last rows of the DataFrame.\n",
    "\n",
    "describe(): This function provides a summary of the numerical columns in the DataFrame, \n",
    "including count, mean, standard deviation, minimum, and maximum values.\n",
    "\n",
    "groupby(): This function is used to group the data in the DataFrame based on one or more columns\n",
    "and perform operations on each group.\n",
    "\n",
    "fillna(): This function is used to fill missing values in the DataFrame with a \n",
    "specified value or method.\n",
    "\"\"\""
   ]
  },
  {
   "cell_type": "code",
   "execution_count": null,
   "id": "7dfdd746-b78f-4d9b-9e92-14d94857be08",
   "metadata": {},
   "outputs": [],
   "source": [
    "# Q6:\n",
    "# Which of the following is mutable in nature Series, DataFrame, Panel?\n",
    "\"\"\"\n",
    "Both Series and DataFrame are mutable in nature, while Panel is considered to be deprecated \n",
    "in favor of multi-dimensional NumPy arrays.\n",
    "\n",
    "In a Series, you can modify individual values by accessing them by index, \n",
    "while in a DataFrame, you can modify individual values by accessing them by row and \n",
    "column labels or integer positions.\n",
    "\"\"\""
   ]
  },
  {
   "cell_type": "code",
   "execution_count": 7,
   "id": "82490233-0d54-4ae2-a673-e6e87f3a2b6a",
   "metadata": {},
   "outputs": [
    {
     "name": "stdout",
     "output_type": "stream",
     "text": [
      "     Name  Age  Gender\n",
      "0   Alice   25  Female\n",
      "1     Bob   30    Male\n",
      "2  Claire   27  Female\n"
     ]
    }
   ],
   "source": [
    "# Q7:\n",
    "# Create a DataFrame using multiple Series. Explain with an example.\n",
    "\n",
    "import pandas as pd\n",
    "\n",
    "names = pd.Series(['Alice', 'Bob', 'Claire'])\n",
    "ages = pd.Series([25, 30, 27])\n",
    "genders = pd.Series(['Female', 'Male', 'Female'])\n",
    "\n",
    "df = pd.DataFrame({'Name': names, 'Age': ages, 'Gender': genders})\n",
    "\n",
    "print(df)\n"
   ]
  },
  {
   "cell_type": "code",
   "execution_count": null,
   "id": "e7eef511-3bae-439b-a87b-2d9ee064fcbc",
   "metadata": {},
   "outputs": [],
   "source": []
  }
 ],
 "metadata": {
  "kernelspec": {
   "display_name": "Python 3 (ipykernel)",
   "language": "python",
   "name": "python3"
  },
  "language_info": {
   "codemirror_mode": {
    "name": "ipython",
    "version": 3
   },
   "file_extension": ".py",
   "mimetype": "text/x-python",
   "name": "python",
   "nbconvert_exporter": "python",
   "pygments_lexer": "ipython3",
   "version": "3.10.8"
  }
 },
 "nbformat": 4,
 "nbformat_minor": 5
}
