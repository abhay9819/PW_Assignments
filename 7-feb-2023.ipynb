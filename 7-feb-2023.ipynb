{
 "cells": [
  {
   "cell_type": "code",
   "execution_count": 4,
   "id": "fe88fb2c-da29-47f9-a7c7-e7508492c080",
   "metadata": {},
   "outputs": [
    {
     "name": "stdin",
     "output_type": "stream",
     "text": [
      "enter your password:  AbhaySharma@@@1\n"
     ]
    },
    {
     "name": "stdout",
     "output_type": "stream",
     "text": [
      "valid Password\n"
     ]
    }
   ],
   "source": [
    "# Q1: Password Checker :\n",
    "def check(x):\n",
    "    x = list(x)\n",
    "\n",
    "    \n",
    "    # upper case\n",
    "    temp = 0\n",
    "    for i in x:\n",
    "        if i.isupper():\n",
    "            temp += 1\n",
    "    if temp >= 2:\n",
    "        check1 = True\n",
    "    else:\n",
    "        check1 = False\n",
    "        \n",
    "    # lower case\n",
    "    temp = 0\n",
    "    for i in x:\n",
    "        if i.islower():\n",
    "            temp += 1\n",
    "    if temp >= 2:\n",
    "        check2 = True\n",
    "    else:\n",
    "        check2 = False\n",
    "        \n",
    "    # Digit Check\n",
    "    temp = 0\n",
    "    for i in x:\n",
    "        if i.isdigit():\n",
    "            temp += 1\n",
    "    if temp >= 1:\n",
    "        check3 = True\n",
    "    else:\n",
    "        check3 = False \n",
    "        \n",
    "        \n",
    "    # Special Character \n",
    "    temp = 0\n",
    "    for i in x:\n",
    "        if not (i.isalpha() or i.isdigit() or i == ' '):\n",
    "            temp += 1\n",
    "    if temp >= 3:\n",
    "        check4 = True\n",
    "    else:\n",
    "        check4 = False\n",
    "        \n",
    "    # length of the password\n",
    "    if len(x) >= 10:\n",
    "        check5 = True\n",
    "    else:\n",
    "        check5 = False\n",
    "        \n",
    "    # Final check   \n",
    "    if check1 and check2 and check3 and check4 and check5:\n",
    "        print(\"valid Password\")\n",
    "    else:\n",
    "        print(\"Invalid Password\")\n",
    " \n",
    "\n",
    "# Declaration\n",
    "password = input(\"enter your password: \")\n",
    "check(password)        "
   ]
  },
  {
   "cell_type": "code",
   "execution_count": 6,
   "id": "bdc5299e-d7a4-45b7-bc02-933fd33bec95",
   "metadata": {},
   "outputs": [
    {
     "name": "stdout",
     "output_type": "stream",
     "text": [
      "The string starts with 'H'.\n"
     ]
    }
   ],
   "source": [
    "# Q2:\n",
    "# A\n",
    "string = \"Hello, World!\"\n",
    "check_letter = lambda x: x.startswith(\"H\")\n",
    "if check_letter(string):\n",
    "    print(\"The string starts with 'H'.\")"
   ]
  },
  {
   "cell_type": "code",
   "execution_count": 7,
   "id": "1b5d56d2-e214-411d-b608-233daeee5cd2",
   "metadata": {},
   "outputs": [
    {
     "name": "stdout",
     "output_type": "stream",
     "text": [
      "The string is numeric.\n"
     ]
    }
   ],
   "source": [
    "# B\n",
    "string = \"12345\"\n",
    "check_numeric = lambda x: x.isdigit()\n",
    "if check_numeric(string):\n",
    "    print(\"The string is numeric.\")"
   ]
  },
  {
   "cell_type": "code",
   "execution_count": null,
   "id": "56ee5cff-75e3-460b-9b5c-a67b2095b415",
   "metadata": {},
   "outputs": [],
   "source": [
    "# C\n"
   ]
  }
 ],
 "metadata": {
  "kernelspec": {
   "display_name": "Python 3 (ipykernel)",
   "language": "python",
   "name": "python3"
  },
  "language_info": {
   "codemirror_mode": {
    "name": "ipython",
    "version": 3
   },
   "file_extension": ".py",
   "mimetype": "text/x-python",
   "name": "python",
   "nbconvert_exporter": "python",
   "pygments_lexer": "ipython3",
   "version": "3.10.8"
  }
 },
 "nbformat": 4,
 "nbformat_minor": 5
}
