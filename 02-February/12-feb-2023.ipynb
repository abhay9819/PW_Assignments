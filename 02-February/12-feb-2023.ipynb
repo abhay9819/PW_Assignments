{
 "cells": [
  {
   "cell_type": "code",
   "execution_count": null,
   "id": "5f816768-d75f-4694-a4a8-bd93f088a56a",
   "metadata": {},
   "outputs": [],
   "source": [
    "# Q1:\n",
    "# What is an exception in python  ? write the difference between exception and syntax\n",
    "\"\"\"\n",
    "In Python, an exception is an error that occurs during the execution of a program. \n",
    "When an exception occurs, Python raises an exception object that can be caught and handled by the program.\n",
    "The main difference between an exception and a syntax error is that a syntax error occurs when \n",
    "there is a mistake in the syntax of the program, while an exception occurs during the execution \n",
    "of the program due to unexpected conditions or events, such as dividing by zero or trying to \n",
    "access a variable that doesn't exist.\n",
    "Syntax errors are caught by the Python interpreter before the program is run, and \n",
    "they prevent the program from running at all. On the other hand, exceptions are caught \n",
    "during the execution of the program and can be handled by the program to prevent it from \n",
    "crashing or displaying an error message to the user.\n",
    "\"\"\"\n"
   ]
  },
  {
   "cell_type": "code",
   "execution_count": 10,
   "id": "c0a46854-cde4-4e07-8923-55efce057585",
   "metadata": {},
   "outputs": [
    {
     "name": "stdout",
     "output_type": "stream",
     "text": [
      "An error occurred while reading the file.\n"
     ]
    }
   ],
   "source": [
    "# Q2:\n",
    "# What happens when an exception is not handled ? explain with an example\n",
    "\"\"\"\n",
    "Ans: When an exception is not handled in a Python program, it will result in an \n",
    "unhandled exception error, which will terminate the program's execution abruptly and \n",
    "display an error message to the user.\n",
    "\"\"\"\n",
    "# Example:\n",
    "try:\n",
    "    f = open(\"nonexistent_file.txt\", \"r\")\n",
    "    contents = f.read()\n",
    "    f.close()\n",
    "except:\n",
    "    print(\"An error occurred while reading the file.\")\n",
    "\n"
   ]
  },
  {
   "cell_type": "code",
   "execution_count": 11,
   "id": "83be6a46-0eb3-49e5-acb4-46b981f2c4b2",
   "metadata": {},
   "outputs": [
    {
     "name": "stdout",
     "output_type": "stream",
     "text": [
      "Error: cannot divide by zero\n"
     ]
    }
   ],
   "source": [
    "# Q3:\n",
    "# Which python statements are used to catch and handle exception ? explain with an example\n",
    "\"\"\"\n",
    "Ans: Python has two statements that are used to catch and handle exceptions: try and except.\n",
    "The try statement is used to enclose the code that might raise an exception, \n",
    "while the except statement is used to define how the program should handle the exception if it occurs.\n",
    "\"\"\"\n",
    "# Example:\n",
    "try:\n",
    "    x = 5\n",
    "    y = 0\n",
    "    z = x / y\n",
    "except ZeroDivisionError:\n",
    "    print(\"Error: cannot divide by zero\")\n"
   ]
  },
  {
   "cell_type": "code",
   "execution_count": 12,
   "id": "8187d6f3-a480-4230-b452-11ffaff1e411",
   "metadata": {},
   "outputs": [
    {
     "name": "stdout",
     "output_type": "stream",
     "text": [
      "The result is: 5.0\n",
      "Executing finally clause\n",
      "Error: cannot divide by zero\n",
      "Executing finally clause\n"
     ]
    },
    {
     "ename": "ZeroDivisionError",
     "evalue": "division by zero",
     "output_type": "error",
     "traceback": [
      "\u001b[0;31m---------------------------------------------------------------------------\u001b[0m",
      "\u001b[0;31mZeroDivisionError\u001b[0m                         Traceback (most recent call last)",
      "Cell \u001b[0;32mIn[12], line 30\u001b[0m\n\u001b[1;32m     27\u001b[0m         \u001b[38;5;28mprint\u001b[39m(\u001b[38;5;124m\"\u001b[39m\u001b[38;5;124mExecuting finally clause\u001b[39m\u001b[38;5;124m\"\u001b[39m)\n\u001b[1;32m     29\u001b[0m divide(\u001b[38;5;241m10\u001b[39m, \u001b[38;5;241m2\u001b[39m)\n\u001b[0;32m---> 30\u001b[0m \u001b[43mdivide\u001b[49m\u001b[43m(\u001b[49m\u001b[38;5;241;43m10\u001b[39;49m\u001b[43m,\u001b[49m\u001b[43m \u001b[49m\u001b[38;5;241;43m0\u001b[39;49m\u001b[43m)\u001b[49m\n",
      "Cell \u001b[0;32mIn[12], line 20\u001b[0m, in \u001b[0;36mdivide\u001b[0;34m(a, b)\u001b[0m\n\u001b[1;32m     18\u001b[0m \u001b[38;5;28;01mdef\u001b[39;00m \u001b[38;5;21mdivide\u001b[39m(a, b):\n\u001b[1;32m     19\u001b[0m     \u001b[38;5;28;01mtry\u001b[39;00m:\n\u001b[0;32m---> 20\u001b[0m         result \u001b[38;5;241m=\u001b[39m \u001b[43ma\u001b[49m\u001b[43m \u001b[49m\u001b[38;5;241;43m/\u001b[39;49m\u001b[43m \u001b[49m\u001b[43mb\u001b[49m\n\u001b[1;32m     21\u001b[0m     \u001b[38;5;28;01mexcept\u001b[39;00m \u001b[38;5;167;01mZeroDivisionError\u001b[39;00m:\n\u001b[1;32m     22\u001b[0m         \u001b[38;5;28mprint\u001b[39m(\u001b[38;5;124m\"\u001b[39m\u001b[38;5;124mError: cannot divide by zero\u001b[39m\u001b[38;5;124m\"\u001b[39m)\n",
      "\u001b[0;31mZeroDivisionError\u001b[0m: division by zero"
     ]
    }
   ],
   "source": [
    "# Q4:\n",
    "# explain with an example: try else, finally, raise\n",
    "\"\"\"\n",
    "Ans: Try : Try and except are used to catch and handle exceptions, but there are additional \n",
    "clauses that can be added to a try block to modify its behavior.\n",
    "\n",
    "Else : The else clause is executed only if no exception occurs in the try block. \n",
    "It is typically used to specify code that should be executed if the main body of the try \n",
    "block completes successfully.\n",
    "\n",
    "Finally : The finally clause is always executed, whether an exception occurs or not. \n",
    "It is typically used to specify cleanup code that should be executed, such as closing \n",
    "files or releasing resources, regardless of whether an exception occurs.\n",
    "\n",
    "Raise : The raise statement is used to raise an exception in Python. It is typically \n",
    "used to create custom exceptions that can be raised when specific conditions occur in a program.\n",
    "\"\"\"\n",
    "def divide(a, b):\n",
    "    try:\n",
    "        result = a / b\n",
    "    except ZeroDivisionError:\n",
    "        print(\"Error: cannot divide by zero\")\n",
    "        raise\n",
    "    else:\n",
    "        print(\"The result is:\", result)\n",
    "    finally:\n",
    "        print(\"Executing finally clause\")\n",
    "        \n",
    "divide(10, 2)\n",
    "divide(10, 0)"
   ]
  },
  {
   "cell_type": "code",
   "execution_count": 15,
   "id": "8d38d742-8f83-47fa-8915-5977841955e0",
   "metadata": {},
   "outputs": [
    {
     "name": "stdout",
     "output_type": "stream",
     "text": [
      "Input must be non-negative.\n"
     ]
    }
   ],
   "source": [
    "# Q5:\n",
    "# What are Custom Exceptions in python? Why do we need Custom Exceptions? Explain with an example\n",
    "\"\"\"\n",
    "In Python, we can define our own exceptions, also known as custom exceptions, \n",
    "to handle specific errors or situations that are not covered by built-in exceptions.\n",
    "We need custom exceptions because they allow us to create more specific and informative \n",
    "error messages that make it easier to debug and maintain our code. By raising a custom exception, \n",
    "we can provide more meaningful feedback to the user of our program or to other developers \n",
    "who might be working with our code.\n",
    "\"\"\"\n",
    "# Example:\n",
    "class InvalidInputException(Exception):\n",
    "    def __init__(self, message=\"Invalid input.\"):\n",
    "        self.message = message\n",
    "        super().__init__(self.message)\n",
    "\n",
    "def square_root(x):\n",
    "    if x < 0:\n",
    "        raise InvalidInputException(\"Input must be non-negative.\")\n",
    "    return math.sqrt(x)\n",
    "\n",
    "try:\n",
    "    result = square_root(-1)\n",
    "except InvalidInputException as e:\n",
    "    print(e.message)\n"
   ]
  },
  {
   "cell_type": "code",
   "execution_count": 16,
   "id": "6ca36eb3-493c-40f0-87f2-140fb8f0df0a",
   "metadata": {},
   "outputs": [
    {
     "name": "stdout",
     "output_type": "stream",
     "text": [
      "-4 is a negative number. Please enter a positive number.\n"
     ]
    }
   ],
   "source": [
    "# Q6:\n",
    "# Create a custom exception class. Use this class to handle an exception.\n",
    "\n",
    "class NegativeNumberError(Exception):\n",
    "    def __init__(self, value):\n",
    "        self.value = value\n",
    "\n",
    "    def __str__(self):\n",
    "        return f\"{self.value} is a negative number. Please enter a positive number.\"\n",
    "\n",
    "def calculate_square_root(num):\n",
    "    if num < 0:\n",
    "        raise NegativeNumberError(num)\n",
    "    else:\n",
    "        return num ** 0.5\n",
    "\n",
    "try:\n",
    "    result = calculate_square_root(-4)\n",
    "except NegativeNumberError as e:\n",
    "    print(e)\n"
   ]
  },
  {
   "cell_type": "code",
   "execution_count": null,
   "id": "4c927cb9-875a-4053-a6c4-a0451249fbbe",
   "metadata": {},
   "outputs": [],
   "source": []
  }
 ],
 "metadata": {
  "kernelspec": {
   "display_name": "Python 3 (ipykernel)",
   "language": "python",
   "name": "python3"
  },
  "language_info": {
   "codemirror_mode": {
    "name": "ipython",
    "version": 3
   },
   "file_extension": ".py",
   "mimetype": "text/x-python",
   "name": "python",
   "nbconvert_exporter": "python",
   "pygments_lexer": "ipython3",
   "version": "3.10.8"
  }
 },
 "nbformat": 4,
 "nbformat_minor": 5
}
