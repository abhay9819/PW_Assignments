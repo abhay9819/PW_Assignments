{
 "cells": [
  {
   "cell_type": "code",
   "execution_count": 41,
   "id": "fe88fb2c-da29-47f9-a7c7-e7508492c080",
   "metadata": {},
   "outputs": [
    {
     "name": "stdin",
     "output_type": "stream",
     "text": [
      "enter your password:  5645efgr5b bKJ%%$\n"
     ]
    },
    {
     "name": "stdout",
     "output_type": "stream",
     "text": [
      "valid Password\n"
     ]
    }
   ],
   "source": [
    "# Q1: Password Checker :\n",
    "def check(x):\n",
    "    x = list(x)\n",
    "\n",
    "    # upper case\n",
    "    temp = 0\n",
    "    for i in x:\n",
    "        if i.isupper():\n",
    "            temp += 1\n",
    "    check1 = True if temp >=2 else False\n",
    "        \n",
    "    # lower case\n",
    "    temp = 0\n",
    "    for i in x:\n",
    "        if i.islower():\n",
    "            temp += 1\n",
    "    check2 = True if temp >=2 else False\n",
    "        \n",
    "    # Digit Check\n",
    "    temp = 0\n",
    "    for i in x:\n",
    "        if i.isdigit():\n",
    "            temp += 1\n",
    "    check3 = True if temp >=2 else False \n",
    "        \n",
    "        \n",
    "    # Special Character \n",
    "    temp = 0\n",
    "    for i in x:\n",
    "        if not (i.isalpha() or i.isdigit() or i == ' '):\n",
    "            temp += 1\n",
    "    check4 = True if temp >=3 else False\n",
    "        \n",
    "    # length of the password\n",
    "    check5 = True if len(x) >=10 else False\n",
    "        \n",
    "    # Final check   \n",
    "    if check1 and check2 and check3 and check4 and check5:\n",
    "        print(\"valid Password\")\n",
    "    else:\n",
    "        print(\"Invalid Password\")\n",
    " \n",
    "\n",
    "# Declaration\n",
    "password = input(\"enter your password: \")\n",
    "check(password)        "
   ]
  },
  {
   "cell_type": "code",
   "execution_count": 6,
   "id": "bdc5299e-d7a4-45b7-bc02-933fd33bec95",
   "metadata": {},
   "outputs": [
    {
     "name": "stdout",
     "output_type": "stream",
     "text": [
      "The string starts with 'H'.\n"
     ]
    }
   ],
   "source": [
    "# Q2:\n",
    "# A\n",
    "string = \"Hello, World!\"\n",
    "check_letter = lambda x: x.startswith(\"H\")\n",
    "if check_letter(string):\n",
    "    print(\"The string starts with 'H'.\")"
   ]
  },
  {
   "cell_type": "code",
   "execution_count": 7,
   "id": "1b5d56d2-e214-411d-b608-233daeee5cd2",
   "metadata": {},
   "outputs": [
    {
     "name": "stdout",
     "output_type": "stream",
     "text": [
      "The string is numeric.\n"
     ]
    }
   ],
   "source": [
    "# B\n",
    "string = \"12345\"\n",
    "check_numeric = lambda x: x.isdigit()\n",
    "if check_numeric(string):\n",
    "    print(\"The string is numeric.\")"
   ]
  },
  {
   "cell_type": "code",
   "execution_count": 8,
   "id": "56ee5cff-75e3-460b-9b5c-a67b2095b415",
   "metadata": {},
   "outputs": [
    {
     "name": "stdout",
     "output_type": "stream",
     "text": [
      "[('orange', 80), ('mango', 99), ('grapes', 1000)]\n"
     ]
    }
   ],
   "source": [
    "# C\n",
    "fruits = [(\"mango\", 99), (\"orange\", 80), (\"grapes\", 1000)]\n",
    "sorted_fruits = sorted(fruits, key=lambda x: x[1])\n",
    "print(sorted_fruits)"
   ]
  },
  {
   "cell_type": "code",
   "execution_count": 10,
   "id": "68832a10-d989-4d8f-800c-a24b5d41ac02",
   "metadata": {},
   "outputs": [
    {
     "data": {
      "text/plain": [
       "[1, 4, 9, 16, 25, 36, 49, 64, 81, 100]"
      ]
     },
     "execution_count": 10,
     "metadata": {},
     "output_type": "execute_result"
    }
   ],
   "source": [
    "# D\n",
    "l = [1,2,3,4,5,6,7,8,9,10]\n",
    "list(map(lambda x:x**2,l))"
   ]
  },
  {
   "cell_type": "code",
   "execution_count": 15,
   "id": "0c32dd6b-3194-46ca-9d87-6d7edce51697",
   "metadata": {},
   "outputs": [
    {
     "data": {
      "text/plain": [
       "[1.0,\n",
       " 1.2599210498948732,\n",
       " 1.4422495703074083,\n",
       " 1.5874010519681994,\n",
       " 1.7099759466766968,\n",
       " 1.8171205928321397,\n",
       " 1.912931182772389,\n",
       " 2.0,\n",
       " 2.080083823051904,\n",
       " 2.154434690031884]"
      ]
     },
     "execution_count": 15,
     "metadata": {},
     "output_type": "execute_result"
    }
   ],
   "source": [
    "# E\n",
    "l = [1,2,3,4,5,6,7,8,9,10]\n",
    "list(map(lambda x : x**(1/3),l))"
   ]
  },
  {
   "cell_type": "code",
   "execution_count": 37,
   "id": "e650c6b5-e2f7-45bc-b037-c21903401274",
   "metadata": {},
   "outputs": [
    {
     "name": "stdin",
     "output_type": "stream",
     "text": [
      "Enter the number :  5\n"
     ]
    },
    {
     "name": "stdout",
     "output_type": "stream",
     "text": [
      "Odd\n"
     ]
    }
   ],
   "source": [
    "# F\n",
    "x = int(input(\"Enter the number : \"))\n",
    "m = \"Even\" if x%2 == 0 else \"Odd\"\n",
    "print(m)"
   ]
  },
  {
   "cell_type": "code",
   "execution_count": 33,
   "id": "d2c00236-fadc-4048-a06d-ef6a96caa015",
   "metadata": {},
   "outputs": [
    {
     "data": {
      "text/plain": [
       "[1, 3, 5, 7, 9]"
      ]
     },
     "execution_count": 33,
     "metadata": {},
     "output_type": "execute_result"
    }
   ],
   "source": [
    "# G\n",
    "l = [1,2,3,4,5,6,7,8,9,10]\n",
    "[i for i in l if i%2 != 0]"
   ]
  },
  {
   "cell_type": "code",
   "execution_count": 35,
   "id": "6bd3119d-3b6e-4c91-ad37-3b42354c7764",
   "metadata": {},
   "outputs": [
    {
     "name": "stdout",
     "output_type": "stream",
     "text": [
      "[1, 2, 3, 4, 5, 6, 0]\n",
      "[-1, -2, -3, -4, -5]\n"
     ]
    }
   ],
   "source": [
    "# H\n",
    "l = [1,2,3,4,5,6,-1,-2,-3,-4,-5,0]\n",
    "positive = [i for i in l if i >=0]\n",
    "negative = [i for i in l if i < 0]        \n",
    "print(positive)\n",
    "print(negative)"
   ]
  },
  {
   "cell_type": "code",
   "execution_count": null,
   "id": "3067544d-a5b7-43d6-b4d6-0c465373bb5d",
   "metadata": {},
   "outputs": [],
   "source": []
  }
 ],
 "metadata": {
  "kernelspec": {
   "display_name": "Python 3 (ipykernel)",
   "language": "python",
   "name": "python3"
  },
  "language_info": {
   "codemirror_mode": {
    "name": "ipython",
    "version": 3
   },
   "file_extension": ".py",
   "mimetype": "text/x-python",
   "name": "python",
   "nbconvert_exporter": "python",
   "pygments_lexer": "ipython3",
   "version": "3.10.8"
  }
 },
 "nbformat": 4,
 "nbformat_minor": 5
}
