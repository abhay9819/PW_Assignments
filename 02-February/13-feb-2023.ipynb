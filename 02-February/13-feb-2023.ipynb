{
 "cells": [
  {
   "cell_type": "code",
   "execution_count": null,
   "id": "2693a189-bf80-4398-a211-afe19e3354e0",
   "metadata": {},
   "outputs": [],
   "source": [
    "# Q1:\n",
    "# Explain why we have to use the Exception class while creating a Custom Exception.\n",
    "\"\"\"\n",
    "Ans:\n",
    "We use the Exception class while creating a Custom Exception because Exception is \n",
    "the base class for all built-in and user-defined exceptions in Python. Inheriting from \n",
    "the Exception class allows our custom exception to behave like a standard Python exception \n",
    "and inherit its functionality. This includes being able to raise, catch, and handle the exception \n",
    "in a consistent way with other built-in exceptions. Additionally, by inheriting from the Exception \n",
    "class, our custom exception can be easily identified as an exception type and can be handled \n",
    "appropriately in our code.\n",
    "\"\"\""
   ]
  },
  {
   "cell_type": "code",
   "execution_count": 9,
   "id": "3df6d750-5a51-4ba8-be5c-dbb53e8b2176",
   "metadata": {},
   "outputs": [
    {
     "name": "stdout",
     "output_type": "stream",
     "text": [
      "BaseException\n",
      "    Exception\n",
      "    GeneratorExit\n",
      "    SystemExit\n",
      "    KeyboardInterrupt\n",
      "    CancelledError\n",
      "    AbortThread\n"
     ]
    }
   ],
   "source": [
    "# Q2:\n",
    "# Write a python program to print Python Exception Hierarchy.\n",
    "\n",
    "\n",
    "def print_exception_hierarchy(ex_class, max_depth, current_depth=0, indent=0):\n",
    "    if current_depth > max_depth:\n",
    "        return\n",
    "\n",
    "    print(\" \" * indent + ex_class.__name__)\n",
    "    for subclass in ex_class.__subclasses__():\n",
    "        print_exception_hierarchy(subclass, max_depth, current_depth+1, indent+4)\n",
    "\n",
    "print_exception_hierarchy(BaseException, max_depth=1)\n",
    "\n",
    "\n"
   ]
  },
  {
   "cell_type": "code",
   "execution_count": 10,
   "id": "174dc473-7a11-4633-9639-ac7a048932c4",
   "metadata": {},
   "outputs": [
    {
     "ename": "ZeroDivisionError",
     "evalue": "division by zero",
     "output_type": "error",
     "traceback": [
      "\u001b[0;31m---------------------------------------------------------------------------\u001b[0m",
      "\u001b[0;31mZeroDivisionError\u001b[0m                         Traceback (most recent call last)",
      "Cell \u001b[0;32mIn[10], line 12\u001b[0m\n\u001b[1;32m     10\u001b[0m a \u001b[38;5;241m=\u001b[39m \u001b[38;5;241m5\u001b[39m\n\u001b[1;32m     11\u001b[0m b \u001b[38;5;241m=\u001b[39m \u001b[38;5;241m0\u001b[39m\n\u001b[0;32m---> 12\u001b[0m c \u001b[38;5;241m=\u001b[39m \u001b[43ma\u001b[49m\u001b[43m \u001b[49m\u001b[38;5;241;43m/\u001b[39;49m\u001b[43m \u001b[49m\u001b[43mb\u001b[49m  \u001b[38;5;66;03m# raises ZeroDivisionError\u001b[39;00m\n\u001b[1;32m     14\u001b[0m \u001b[38;5;66;03m# OverflowError: This error occurs when the result of an arithmetic operation is too l\u001b[39;00m\n\u001b[1;32m     15\u001b[0m \u001b[38;5;66;03m# arge to be represented by the available memory\u001b[39;00m\n\u001b[1;32m     16\u001b[0m a \u001b[38;5;241m=\u001b[39m \u001b[38;5;241m2\u001b[39m \u001b[38;5;241m*\u001b[39m\u001b[38;5;241m*\u001b[39m \u001b[38;5;241m1000\u001b[39m\n",
      "\u001b[0;31mZeroDivisionError\u001b[0m: division by zero"
     ]
    }
   ],
   "source": [
    "# Q3:\n",
    "# What errors are defined in the ArithmeticError class? Explain any two with an example.\n",
    "\"\"\"\n",
    "The ArithmeticError class is a base class for exceptions that occur during arithmetic operations, \n",
    "such as division by zero or numerical overflow. Here are two examples of errors that are defined \n",
    "in the ArithmeticError class:\n",
    "\"\"\"\n",
    "\n",
    "# ZeroDivisionError: This error occurs when trying to divide a number by zero\n",
    "a = 5\n",
    "b = 0\n",
    "c = a / b  # raises ZeroDivisionError\n"
   ]
  },
  {
   "cell_type": "code",
   "execution_count": null,
   "id": "8bdf7d0f-b821-47a1-b05d-2ff0134cb92c",
   "metadata": {},
   "outputs": [],
   "source": [
    "# OverflowError: This error occurs when the result of an arithmetic operation is too l\n",
    "# arge to be represented by the available memory\n",
    "a = 2 ** 1000 ** 1000\n",
    "b = a * a * a * a * a * a * a * a * a * a * a \n",
    "print(b)"
   ]
  },
  {
   "cell_type": "code",
   "execution_count": 1,
   "id": "e8e799ea-b1c5-4655-a95e-d53791eac81e",
   "metadata": {},
   "outputs": [
    {
     "ename": "KeyError",
     "evalue": "'pear'",
     "output_type": "error",
     "traceback": [
      "\u001b[0;31m---------------------------------------------------------------------------\u001b[0m",
      "\u001b[0;31mKeyError\u001b[0m                                  Traceback (most recent call last)",
      "Cell \u001b[0;32mIn[1], line 10\u001b[0m\n\u001b[1;32m      8\u001b[0m \u001b[38;5;66;03m# Example\u001b[39;00m\n\u001b[1;32m      9\u001b[0m my_dict \u001b[38;5;241m=\u001b[39m {\u001b[38;5;124m\"\u001b[39m\u001b[38;5;124mapple\u001b[39m\u001b[38;5;124m\"\u001b[39m: \u001b[38;5;241m3\u001b[39m, \u001b[38;5;124m\"\u001b[39m\u001b[38;5;124mbanana\u001b[39m\u001b[38;5;124m\"\u001b[39m: \u001b[38;5;241m2\u001b[39m, \u001b[38;5;124m\"\u001b[39m\u001b[38;5;124morange\u001b[39m\u001b[38;5;124m\"\u001b[39m: \u001b[38;5;241m1\u001b[39m}\n\u001b[0;32m---> 10\u001b[0m count \u001b[38;5;241m=\u001b[39m \u001b[43mmy_dict\u001b[49m\u001b[43m[\u001b[49m\u001b[38;5;124;43m\"\u001b[39;49m\u001b[38;5;124;43mpear\u001b[39;49m\u001b[38;5;124;43m\"\u001b[39;49m\u001b[43m]\u001b[49m  \u001b[38;5;66;03m# raises KeyError\u001b[39;00m\n",
      "\u001b[0;31mKeyError\u001b[0m: 'pear'"
     ]
    }
   ],
   "source": [
    "# Q4:\n",
    "# Why LookupError class is used? Explain with an example KeyError and IndexError.\n",
    "\"\"\"\n",
    "Ans: The LookupError class is a base class for exceptions that occur when an index or key cannot\n",
    "be found in a sequence or mapping object. It is used as a catch-all class for errors that occur \n",
    "during lookup operations\n",
    "\"\"\"\n",
    "# keyerror\n",
    "my_dict = {\"apple\": 3, \"banana\": 2, \"orange\": 1}\n",
    "count = my_dict[\"pear\"]  # raises KeyError\n"
   ]
  },
  {
   "cell_type": "code",
   "execution_count": 2,
   "id": "a4641739-03b4-4341-9932-897fd6278299",
   "metadata": {},
   "outputs": [
    {
     "ename": "IndexError",
     "evalue": "list index out of range",
     "output_type": "error",
     "traceback": [
      "\u001b[0;31m---------------------------------------------------------------------------\u001b[0m",
      "\u001b[0;31mIndexError\u001b[0m                                Traceback (most recent call last)",
      "Cell \u001b[0;32mIn[2], line 3\u001b[0m\n\u001b[1;32m      1\u001b[0m \u001b[38;5;66;03m# ndexerror\u001b[39;00m\n\u001b[1;32m      2\u001b[0m my_list \u001b[38;5;241m=\u001b[39m [\u001b[38;5;241m1\u001b[39m, \u001b[38;5;241m2\u001b[39m, \u001b[38;5;241m3\u001b[39m]\n\u001b[0;32m----> 3\u001b[0m value \u001b[38;5;241m=\u001b[39m \u001b[43mmy_list\u001b[49m\u001b[43m[\u001b[49m\u001b[38;5;241;43m3\u001b[39;49m\u001b[43m]\u001b[49m  \u001b[38;5;66;03m# raises IndexError\u001b[39;00m\n",
      "\u001b[0;31mIndexError\u001b[0m: list index out of range"
     ]
    }
   ],
   "source": [
    "# ndexerror\n",
    "my_list = [1, 2, 3]\n",
    "value = my_list[3]  # raises IndexError\n"
   ]
  },
  {
   "cell_type": "code",
   "execution_count": 3,
   "id": "85e4d905-1f89-40cf-b57a-bf6c4647e70d",
   "metadata": {},
   "outputs": [
    {
     "ename": "ModuleNotFoundError",
     "evalue": "No module named 'foo'",
     "output_type": "error",
     "traceback": [
      "\u001b[0;31m---------------------------------------------------------------------------\u001b[0m",
      "\u001b[0;31mModuleNotFoundError\u001b[0m                       Traceback (most recent call last)",
      "Cell \u001b[0;32mIn[3], line 11\u001b[0m\n\u001b[1;32m      3\u001b[0m \u001b[38;5;124;03m\"\"\"\u001b[39;00m\n\u001b[1;32m      4\u001b[0m \u001b[38;5;124;03mAns: ImportError is a Python built-in exception class that is raised when a module \u001b[39;00m\n\u001b[1;32m      5\u001b[0m \u001b[38;5;124;03mor attribute cannot be imported. \u001b[39;00m\n\u001b[0;32m   (...)\u001b[0m\n\u001b[1;32m      8\u001b[0m \u001b[38;5;124;03mthe specified module.\u001b[39;00m\n\u001b[1;32m      9\u001b[0m \u001b[38;5;124;03m\"\"\"\u001b[39;00m\n\u001b[1;32m     10\u001b[0m \u001b[38;5;66;03m# Example\u001b[39;00m\n\u001b[0;32m---> 11\u001b[0m \u001b[38;5;28;01mimport\u001b[39;00m \u001b[38;5;21;01mfoo\u001b[39;00m\n",
      "\u001b[0;31mModuleNotFoundError\u001b[0m: No module named 'foo'"
     ]
    }
   ],
   "source": [
    "# Q5:\n",
    "# Explain ImportError. What is ModuleNotFoundError?\n",
    "\"\"\"\n",
    "Ans: ImportError is a Python built-in exception class that is raised when a module \n",
    "or attribute cannot be imported. \n",
    "ModuleNotFoundError is a subclass of ImportError that is specifically raised when a module cannot be found.\n",
    "This error was introduced in Python 3.6 and is raised when an import statement fails to find \n",
    "the specified module.\n",
    "\"\"\"\n",
    "# Example\n",
    "import foo"
   ]
  },
  {
   "cell_type": "code",
   "execution_count": null,
   "id": "76863ba9-b223-4111-a74b-ec43077ba6a4",
   "metadata": {},
   "outputs": [],
   "source": [
    "# Q6:\n",
    "# List down some best practices for exception handling in python.\n",
    "\"\"\"\n",
    "Googled:\n",
    "1. Use specific exception classes: When possible, catch specific exception classes instead \n",
    "of catching the generic Exception class. This makes it easier to understand the specific type \n",
    "of exception that occurred and take appropriate action.\n",
    "2. Avoid catching too broadly: Avoid catching exceptions too broadly, as this can lead to\n",
    "unintended consequences and make it difficult to debug problems. Only catch exceptions that you \n",
    "know how to handle and that won't mask other errors.\n",
    "3. Use the finally block: Use the finally block to ensure that code is executed regardless \n",
    "of whether an exception was raised. This is especially useful for cleaning up resources or closing files.\n",
    "4. Don't ignore exceptions: Don't catch exceptions and ignore them without taking any action. \n",
    "This can lead to silent errors that are difficult to debug. Always log the error or take appropriate action.\n",
    "5. Reraise exceptions: When catching an exception, consider whether it makes sense to reraise \n",
    "the exception so that it can be caught by a higher-level exception handler or logged.\n",
    "etc\n",
    "\"\"\""
   ]
  }
 ],
 "metadata": {
  "kernelspec": {
   "display_name": "Python 3 (ipykernel)",
   "language": "python",
   "name": "python3"
  },
  "language_info": {
   "codemirror_mode": {
    "name": "ipython",
    "version": 3
   },
   "file_extension": ".py",
   "mimetype": "text/x-python",
   "name": "python",
   "nbconvert_exporter": "python",
   "pygments_lexer": "ipython3",
   "version": "3.10.8"
  }
 },
 "nbformat": 4,
 "nbformat_minor": 5
}
