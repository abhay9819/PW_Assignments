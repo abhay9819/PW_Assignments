{
 "cells": [
  {
   "cell_type": "code",
   "execution_count": null,
   "id": "5a16d360-faba-4fb6-a4fb-063fa8710f9d",
   "metadata": {},
   "outputs": [],
   "source": [
    "# Q1. Write a python program to extract the video URL of the first five videos.\n",
    "\n",
    "import requests\n",
    "from bs4 import BeautifulSoup\n",
    "\n",
    "# Request the YouTube channel URL and get the HTML content\n",
    "url = 'https://www.youtube.com/@PW-Foundation/videos'\n",
    "response = requests.get(url)\n",
    "html_content = response.content\n",
    "\n",
    "# Parse the HTML content using BeautifulSoup\n",
    "soup = BeautifulSoup(html_content, 'html.parser')\n",
    "\n",
    "# Find all the video titles and URLs\n",
    "video_titles = soup.find_all('a', class_='yt-simple-endpoint inline-block style-scope ytd-thumbnail')\n",
    "print(video_titles)\n",
    "\n",
    "for videos in video_titles:\n",
    "    vurl = videos.href\n",
    "    final = 'https://www.youtube.com'+vurl\n",
    "    print(final)"
   ]
  },
  {
   "cell_type": "code",
   "execution_count": null,
   "id": "ec0968a1-a87a-4b30-98c3-bf310073c4a8",
   "metadata": {},
   "outputs": [],
   "source": [
    "# Q2. Write a python program to extract the URL of the video thumbnails of the first five videos.\n",
    "\n",
    "import requests\n",
    "from bs4 import BeautifulSoup\n",
    "\n",
    "# Request the YouTube channel URL and get the HTML content\n",
    "url = 'https://www.youtube.com/@PW-Foundation/videos'\n",
    "response = requests.get(url)\n",
    "html_content = response.content\n",
    "\n",
    "# Parse the HTML content using BeautifulSoup\n",
    "soup = BeautifulSoup(html_content, 'html.parser')\n",
    "\n",
    "# Find all the video titles and URLs\n",
    "thumbnail = soup.find_all('img',class_=\"yt-core-image--fill-parent-height yt-core-image--fill-parent-width yt-core-image yt-core-image--content-mode-scale-aspect-fill yt-core-image--loaded\")\n",
    "\n",
    "for videos in thumbnail:\n",
    "    image = videos['src']\n",
    "    print(image)\n"
   ]
  },
  {
   "cell_type": "code",
   "execution_count": null,
   "id": "9618358d-1ce0-4a42-8c60-a3e7454f7c9b",
   "metadata": {},
   "outputs": [],
   "source": [
    "# Q3. Write a python program to extract the title of the first five videos.\n",
    "\n",
    "import requests\n",
    "from bs4 import BeautifulSoup\n",
    "\n",
    "# Request the YouTube channel URL and get the HTML content\n",
    "url = 'https://www.youtube.com/@PW-Foundation/videos'\n",
    "response = requests.get(url)\n",
    "html_content = response.content\n",
    "\n",
    "# Parse the HTML content using BeautifulSoup\n",
    "soup = BeautifulSoup(html_content, 'html.parser')\n",
    "\n",
    "# Find all the video titles and URLs\n",
    "title = soup.find_all('yt-formatted-string',id_=\"video-title\")\n",
    "print(title)\n",
    "\n",
    "for videos in title:\n",
    "    name = videos.text\n",
    "    print(name)"
   ]
  },
  {
   "cell_type": "code",
   "execution_count": 9,
   "id": "2f54aa32-9f64-4be8-a147-79982919a7db",
   "metadata": {},
   "outputs": [],
   "source": [
    "# Q4. Write a python program to extract the number of views of the first five videos.\n",
    "\n",
    "\n",
    "import requests\n",
    "from bs4 import BeautifulSoup\n",
    "\n",
    "# Request the YouTube channel URL and get the HTML content\n",
    "url = 'https://www.youtube.com/@PW-Foundation/videos'\n",
    "response = requests.get(url)\n",
    "html_content = response.content\n",
    "\n",
    "# Parse the HTML content using BeautifulSoup\n",
    "soup = BeautifulSoup(html_content, 'html.parser')\n",
    "\n",
    "# Find all the video titles and URLs\n",
    "views = soup.find_all('span',class_=\"inline-metadata-item style-scope ytd-video-meta-block\")\n",
    "\n",
    "for data in views[:11:2]:\n",
    "    v = data.text\n",
    "    print(v)\n"
   ]
  },
  {
   "cell_type": "code",
   "execution_count": null,
   "id": "126f54a9-33ee-4709-ac5b-092b6c2867b2",
   "metadata": {},
   "outputs": [],
   "source": [
    "# Q5. Write a python program to extract the time of posting of video for the first five videos.\n",
    "\n",
    "import requests\n",
    "from bs4 import BeautifulSoup\n",
    "\n",
    "# Request the YouTube channel URL and get the HTML content\n",
    "url = 'https://www.youtube.com/@PW-Foundation/videos'\n",
    "response = requests.get(url)\n",
    "html_content = response.content\n",
    "\n",
    "# Parse the HTML content using BeautifulSoup\n",
    "soup = BeautifulSoup(html_content, 'html.parser')\n",
    "\n",
    "# Find all the video titles and URLs\n",
    "views = soup.find_all('span',class_=\"inline-metadata-item style-scope ytd-video-meta-block\")\n",
    "\n",
    "for data in views[1:12:2]:\n",
    "    v = data.text\n",
    "    print(v)"
   ]
  }
 ],
 "metadata": {
  "kernelspec": {
   "display_name": "Python 3 (ipykernel)",
   "language": "python",
   "name": "python3"
  },
  "language_info": {
   "codemirror_mode": {
    "name": "ipython",
    "version": 3
   },
   "file_extension": ".py",
   "mimetype": "text/x-python",
   "name": "python",
   "nbconvert_exporter": "python",
   "pygments_lexer": "ipython3",
   "version": "3.10.8"
  }
 },
 "nbformat": 4,
 "nbformat_minor": 5
}
