{
 "cells": [
  {
   "cell_type": "code",
   "execution_count": null,
   "id": "d7722252-f7f0-40ce-be31-945a9d68a81b",
   "metadata": {},
   "outputs": [],
   "source": [
    "# Q1:\n",
    "# What is an API? Give an example, where an API is used in real life.\n",
    "\"\"\"\n",
    "Ans: An API, or Application Programming Interface, is a set of protocols, routines, and \n",
    "tools that allow different software applications to communicate with each other. \n",
    "It defines the rules and formats for data exchange between different software systems, \n",
    "making it easier to integrate or connect different applications.\n",
    "Here's an example of how an API is used in real life: Let's say you are using a weather \n",
    "app on your phone to check the weather forecast for the day. The app is likely using an \n",
    "API provided by a weather service that provides the app with the necessary weather data \n",
    "to display the forecast. The app sends a request to the API for the weather data, and the \n",
    "API responds with the data in a format that the app can use to display the forecast on your phone. \n",
    "This is just one example of how APIs are used to enable different software systems to communicate \n",
    "and exchange data with each other\n",
    "\"\"\"\n"
   ]
  },
  {
   "cell_type": "code",
   "execution_count": null,
   "id": "5a72d00b-2cf0-44d2-a3e7-83f1b2f2048e",
   "metadata": {},
   "outputs": [],
   "source": [
    "# Q2:\n",
    "# Give advantages and disadvantages of using API.\n",
    "\"\"\"\n",
    "Advantages:\n",
    "Integration\n",
    "Scalability\n",
    "Automation\n",
    "Improved user experience\n",
    "innovation\n",
    "\n",
    "Diaadvantages:\n",
    "Security \n",
    "Dependencies\n",
    "Complexity\n",
    "Quality Control \n",
    "legal issues\n",
    "\"\"\""
   ]
  },
  {
   "cell_type": "code",
   "execution_count": null,
   "id": "636c9255-392a-414f-b500-4c8d07ea27b0",
   "metadata": {},
   "outputs": [],
   "source": [
    "# Q3:\n",
    "# What is a Web API? Differentiate between API and Web API.\n",
    "\"\"\"\n",
    "A Web API is a type of API that is designed specifically to be used over the web. \n",
    "It provides a way for different software systems to communicate and exchange data \n",
    "over the internet using web protocols such as HTTP, HTTPS, and REST. Web APIs are \n",
    "typically implemented using web technologies such as JSON, XML, and HTML.\n",
    "\n",
    "\n",
    "1. An API can refer to any set of protocols, routines, and tools that allow different \n",
    "software systems to communicate with each other, whereas a Web API specifically refers \n",
    "to APIs that are designed to be used over the web.\n",
    "\n",
    "2. An API can refer to any set of protocols, routines, and tools that allow different \n",
    "software systems to communicate with each other, whereas a Web API specifically refers \n",
    "to APIs that are designed to be used over the web.\n",
    "\n",
    "3. APIs can use different data exchange formats such as XML, JSON, or binary, whereas\n",
    "Web APIs are designed to use web-friendly data exchange formats such as JSON, XML, and HTML.\n",
    "\n",
    "4. APIs can be implemented using a variety of technologies, including messaging queues, \n",
    "web services, or RPCs, whereas Web APIs are typically implemented using web technologies \n",
    "such as RESTful services.\n",
    "\"\"\"\n"
   ]
  },
  {
   "cell_type": "code",
   "execution_count": null,
   "id": "3eecd22b-aea6-44ca-bfda-bb56bc02ff42",
   "metadata": {},
   "outputs": [],
   "source": [
    "# Q4:\n",
    "# Explain REST and SOAP Architecture. Mention shortcomings of SOAP.\n",
    "\"\"\"\n",
    "REST (Representational State Transfer): REST is an architectural style that is based on \n",
    "the HTTP protocol. RESTful services use HTTP methods such as GET, POST, PUT, and DELETE \n",
    "to perform CRUD (Create, Read, Update, Delete) operations on resources, which are represented \n",
    "by URIs (Uniform Resource Identifiers). RESTful services typically use JSON or XML as the data\n",
    "exchange format, and are designed to be simple, lightweight, and scalable.\n",
    "\n",
    "SOAP (Simple Object Access Protocol): SOAP is an architectural style that is based on XML messaging. \n",
    "SOAP web services use the SOAP protocol to send and receive messages between different software systems. \n",
    "SOAP web services are designed to be more robust and extensible than RESTful services, and provide more\n",
    "built-in security features such as encryption and digital signatures. However, SOAP web services can\n",
    "be more complex and heavyweight than RESTful services, and can require more processing power and \n",
    "network bandwidth to handle.\n",
    "\n",
    "Shortcommings of SOAP API:\n",
    "Complexity \n",
    "Lack of interoperability\n",
    "limited browser support \n",
    "limited Caching\n",
    "steep learning curve\n",
    "\"\"\""
   ]
  },
  {
   "cell_type": "code",
   "execution_count": null,
   "id": "590e79d6-5cb5-4d41-9e5f-5cb548b06172",
   "metadata": {},
   "outputs": [],
   "source": [
    "# Q5:\n",
    "# Differentiate between REST and SOAP.\n",
    "\"\"\"\n",
    "1. REST is based on the HTTP protocol, whereas SOAP is based on XML messaging.\n",
    "2. REST typically uses lightweight data formats such as JSON or XML, \n",
    "   whereas SOAP uses XML for all messages.\n",
    "3. REST messages are generally smaller than SOAP messages, making them more efficient for transmitting \n",
    "   data over the internet.\n",
    "4. REST is typically designed around a resource-based interface, whereas SOAP is designed \n",
    "   around a more operation-based interface.\n",
    "5. RESTful services are generally faster and more scalable than SOAP web services, \n",
    "   as they use lightweight data formats and HTTP methods that are optimized for performance.\n",
    "6. SOAP web services typically provide more built-in security features, such as encryption and digital \n",
    "   signatures, whereas RESTful services require more manual configuration for security.\n",
    "\"\"\"\n"
   ]
  }
 ],
 "metadata": {
  "kernelspec": {
   "display_name": "Python 3 (ipykernel)",
   "language": "python",
   "name": "python3"
  },
  "language_info": {
   "codemirror_mode": {
    "name": "ipython",
    "version": 3
   },
   "file_extension": ".py",
   "mimetype": "text/x-python",
   "name": "python",
   "nbconvert_exporter": "python",
   "pygments_lexer": "ipython3",
   "version": "3.10.8"
  }
 },
 "nbformat": 4,
 "nbformat_minor": 5
}
