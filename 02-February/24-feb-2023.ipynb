{
 "cells": [
  {
   "cell_type": "code",
   "execution_count": null,
   "id": "0827dce4-79a3-4dc9-b91e-4262694dc07f",
   "metadata": {},
   "outputs": [],
   "source": [
    "# Q1. List any five functions of the pandas library with execution.\n",
    "\n",
    "# read_csv\n",
    "import pandas as pd\n",
    "df = pd.read_csv('example.csv')\n",
    "print(df)\n",
    "\n",
    "# Dropna\n",
    "import pandas as pd\n",
    "df = pd.DataFrame({'A': [1, 2, 3, None], 'B': [4, None, 6, 7]})\n",
    "df = df.dropna()\n",
    "print(df)\n",
    "\n",
    "# Groupby\n",
    "import pandas as pd\n",
    "df = pd.DataFrame({'A': ['foo', 'foo', 'bar', 'bar', 'foo', 'bar'], 'B': [1, 2, 3, 4, 5, 6], 'C': [7, 8, 9, 10, 11, 12]})\n",
    "grouped = df.groupby('A').sum()\n",
    "print(grouped)\n",
    "\n",
    "# merge\n",
    "import pandas as pd\n",
    "left_df = pd.DataFrame({'key': ['foo', 'bar'], 'value': [1, 2]})\n",
    "right_df = pd.DataFrame({'key': ['foo', 'baz'], 'value': [3, 4]})\n",
    "merged_df = pd.merge(left_df, right_df, on='key')\n",
    "print(merged_df)\n",
    "\n",
    "# Pivot table\n",
    "import pandas as pd\n",
    "df = pd.DataFrame({'A': ['foo', 'foo', 'bar', 'bar', 'foo', 'bar'], 'B': [1, 2, 3, 4, 5, 6], 'C': [7, 8, 9, 10, 11, 12]})\n",
    "pivot = pd.pivot_table(df, values='C', index=['A'], columns=['B'])\n",
    "print(pivot)\n"
   ]
  },
  {
   "cell_type": "code",
   "execution_count": 4,
   "id": "def3bb49-9cbc-47d2-ad38-dc589fb6f6f0",
   "metadata": {},
   "outputs": [
    {
     "name": "stdout",
     "output_type": "stream",
     "text": [
      "   A  B  C\n",
      "1  1  4  7\n",
      "3  2  5  8\n",
      "5  3  6  9\n"
     ]
    }
   ],
   "source": [
    "# Q2. Given a Pandas DataFrame df with columns 'A', 'B', and 'C', write a Python function to re-index the\n",
    "# DataFrame with a new index that starts from 1 and increments by 2 for each row.\n",
    "\n",
    "\n",
    "import pandas as pd\n",
    "\n",
    "def reindex_dataframe(df):\n",
    "    new_index = pd.RangeIndex(start=1, step=2, stop=2*len(df)+1)\n",
    "    df.index = new_index\n",
    "    return df\n",
    "\n",
    "\n",
    "# create a sample DataFrame\n",
    "df = pd.DataFrame({'A': [1, 2, 3], 'B': [4, 5, 6], 'C': [7, 8, 9]})\n",
    "\n",
    "# re-index the DataFrame\n",
    "df = reindex_dataframe(df)\n",
    "\n",
    "print(df)\n",
    "\n"
   ]
  },
  {
   "cell_type": "code",
   "execution_count": 6,
   "id": "5985ee20-d844-418d-a984-f5b87c6b436f",
   "metadata": {},
   "outputs": [
    {
     "name": "stdout",
     "output_type": "stream",
     "text": [
      "The sum of the first three values is: 6\n"
     ]
    }
   ],
   "source": [
    "# Q3. You have a Pandas DataFrame df with a column named 'Values'. Write a Python function that iterates\n",
    "# over the DataFrame and calculates the sum of the first three values in the 'Values' column. The function\n",
    "# should print the sum to the console.\n",
    "\n",
    "import pandas as pd\n",
    "\n",
    "def calculate_sum_of_first_three(df):\n",
    "    values_col = df['Values']\n",
    "    sum_of_first_three = values_col.head(3).sum()\n",
    "    print(f\"The sum of the first three values is: {sum_of_first_three}\")\n",
    "\n",
    "# create a sample DataFrame\n",
    "df = pd.DataFrame({'Values': [1, 2, 3, 4, 5]})\n",
    "\n",
    "# calculate the sum of the first three values\n",
    "calculate_sum_of_first_three(df)\n"
   ]
  },
  {
   "cell_type": "code",
   "execution_count": 7,
   "id": "4d209d14-c91b-4b9c-96a5-fdba1bc9043e",
   "metadata": {},
   "outputs": [
    {
     "name": "stdout",
     "output_type": "stream",
     "text": [
      "                         Text  Word_Count\n",
      "0                 Hello world           2\n",
      "1          This is a sentence           4\n",
      "2  Another row with some text           5\n"
     ]
    }
   ],
   "source": [
    "# Q4. Given a Pandas DataFrame df with a column 'Text', write a Python function to create a new column\n",
    "# 'Word_Count' that contains the number of words in each row of the 'Text' column.\n",
    "\n",
    "import pandas as pd\n",
    "\n",
    "def add_word_count_column(df):\n",
    "    # split the 'Text' column into words using whitespace as the delimiter\n",
    "    words = df['Text'].str.split()\n",
    "    \n",
    "    # count the number of words in each row\n",
    "    word_counts = words.apply(len)\n",
    "    \n",
    "    # add the 'Word_Count' column to the DataFrame\n",
    "    df['Word_Count'] = word_counts\n",
    "    \n",
    "    return df\n",
    "\n",
    "# create a sample DataFrame\n",
    "df = pd.DataFrame({'Text': ['Hello world', 'This is a sentence', 'Another row with some text']})\n",
    "\n",
    "# add the 'Word_Count' column\n",
    "df = add_word_count_column(df)\n",
    "\n",
    "print(df)\n",
    "\n"
   ]
  },
  {
   "cell_type": "code",
   "execution_count": null,
   "id": "ada9764c-9c65-4b51-94f6-3e0774147c11",
   "metadata": {},
   "outputs": [],
   "source": [
    "# Q5. How are DataFrame.size() and DataFrame.shape() different?\n",
    "'''\n",
    "The DataFrame.size() method returns the total number of elements in the DataFrame, which is\n",
    "equal to the product of the number of rows and the number of columns. This includes all the \n",
    "elements in the DataFrame, including NaN or missing values.\n",
    "\n",
    "On the other hand, the DataFrame.shape() method returns a tuple containing the number of rows\n",
    "and columns in the DataFrame.This does not include NaN or missing values, and only counts the \n",
    "actual values in the DataFrame.\n",
    "'''"
   ]
  },
  {
   "cell_type": "code",
   "execution_count": null,
   "id": "ac53c52b-8ecc-4829-ab9b-3d3fae53f705",
   "metadata": {},
   "outputs": [],
   "source": [
    "# Q6. Which function of pandas do we use to read an excel file ?\n",
    "'''\n",
    "read_excel() reads the file named 'file.xlsx' and stores the data in a Pandas DataFrame. \n",
    "The sheet_name parameter is used to specify which sheet to read from the Excel file \n",
    "(if the file contains multiple sheets). If sheet_name is not specified, the function will \n",
    "read the first sheet in the file by default.\n",
    "\n",
    "'''"
   ]
  },
  {
   "cell_type": "code",
   "execution_count": 9,
   "id": "3145fec8-05e7-4cf3-abb5-d3dba6e058aa",
   "metadata": {},
   "outputs": [
    {
     "name": "stdout",
     "output_type": "stream",
     "text": [
      "               Email Username\n",
      "0  user1@example.com    user1\n",
      "1  user2@example.com    user2\n",
      "2  user3@example.com    user3\n"
     ]
    }
   ],
   "source": [
    "# Q7. You have a Pandas DataFrame df that contains a column named 'Email' that contains email\n",
    "# addresses in the format 'username@domain.com'. Write a Python function that creates a new column\n",
    "# 'Username' in df that contains only the username part of each email address.\n",
    "\n",
    "import pandas as pd\n",
    "\n",
    "def extract_username(df):\n",
    "    # create a new column 'Username' by splitting the 'Email' column at the '@' symbol\n",
    "    df['Username'] = df['Email'].str.split('@').str[0]\n",
    "    return df\n",
    "\n",
    "\n",
    "# create a sample DataFrame\n",
    "df = pd.DataFrame({'Email': ['user1@example.com', 'user2@example.com', 'user3@example.com']})\n",
    "\n",
    "# call the function to extract usernames from email addresses\n",
    "df = extract_username(df)\n",
    "\n",
    "# print the resulting DataFrame\n",
    "print(df)\n",
    "\n"
   ]
  },
  {
   "cell_type": "code",
   "execution_count": 13,
   "id": "449a1cda-987c-4d58-a45b-218f65de3cd0",
   "metadata": {},
   "outputs": [
    {
     "data": {
      "text/html": [
       "<div>\n",
       "<style scoped>\n",
       "    .dataframe tbody tr th:only-of-type {\n",
       "        vertical-align: middle;\n",
       "    }\n",
       "\n",
       "    .dataframe tbody tr th {\n",
       "        vertical-align: top;\n",
       "    }\n",
       "\n",
       "    .dataframe thead th {\n",
       "        text-align: right;\n",
       "    }\n",
       "</style>\n",
       "<table border=\"1\" class=\"dataframe\">\n",
       "  <thead>\n",
       "    <tr style=\"text-align: right;\">\n",
       "      <th></th>\n",
       "      <th>A</th>\n",
       "      <th>B</th>\n",
       "    </tr>\n",
       "  </thead>\n",
       "  <tbody>\n",
       "    <tr>\n",
       "      <th>2</th>\n",
       "      <td>6</td>\n",
       "      <td>4</td>\n",
       "    </tr>\n",
       "    <tr>\n",
       "      <th>3</th>\n",
       "      <td>8</td>\n",
       "      <td>3</td>\n",
       "    </tr>\n",
       "    <tr>\n",
       "      <th>4</th>\n",
       "      <td>7</td>\n",
       "      <td>7</td>\n",
       "    </tr>\n",
       "  </tbody>\n",
       "</table>\n",
       "</div>"
      ],
      "text/plain": [
       "   A  B\n",
       "2  6  4\n",
       "3  8  3\n",
       "4  7  7"
      ]
     },
     "execution_count": 13,
     "metadata": {},
     "output_type": "execute_result"
    }
   ],
   "source": [
    "# Q8. You have a Pandas DataFrame df with columns 'A', 'B', and 'C'. Write a Python function that selects\n",
    "# all rows where the value in column 'A' is greater than 5 and the value in column 'B' is less than 10. The\n",
    "# function should return a new DataFrame that contains only the selected rows.\n",
    "\n",
    "import pandas as pd\n",
    "\n",
    "def select_rows(df):\n",
    "    selected_rows = df[(df['A'] > 5) & (df['B'] < 10)]\n",
    "    return selected_rows\n",
    "\n",
    "df = pd.DataFrame({'A' : [5,4,6,8,7,3], 'B':[1,5,4,3,7,6] })\n",
    "x = select_rows(df) \n",
    "x"
   ]
  },
  {
   "cell_type": "code",
   "execution_count": 19,
   "id": "9f3b4c14-4f9d-4882-b30d-57305b9ea44e",
   "metadata": {},
   "outputs": [
    {
     "name": "stdout",
     "output_type": "stream",
     "text": [
      "4.5 4.5 1.8708286933869707\n"
     ]
    }
   ],
   "source": [
    "# Q9. Given a Pandas DataFrame df with a column 'Values', write a Python function to calculate the mean,\n",
    "# median, and standard deviation of the values in the 'Values' column.\n",
    "\n",
    "import pandas as pd\n",
    "\n",
    "def calculate_stats(df):\n",
    "    \n",
    "    mean = df['Values'].mean()\n",
    "    median = df['Values'].median()\n",
    "    std_dev = df['Values'].std()\n",
    "    \n",
    "    return mean, median, std_dev\n",
    "\n",
    "df = pd.DataFrame({'Values' : [2,3,4,5,6,7]})\n",
    "\n",
    "x,y,z = calculate_stats(df)\n",
    "print(x, y, z)"
   ]
  },
  {
   "cell_type": "code",
   "execution_count": 20,
   "id": "903f1069-f136-4f92-af9b-cded952e7615",
   "metadata": {},
   "outputs": [
    {
     "name": "stdout",
     "output_type": "stream",
     "text": [
      "        Date  Sales  MovingAverage\n",
      "0 2022-01-01     10      10.000000\n",
      "1 2022-01-02     15      12.500000\n",
      "2 2022-01-03     20      15.000000\n",
      "3 2022-01-04     12      14.250000\n",
      "4 2022-01-05     18      15.000000\n",
      "5 2022-01-06     25      16.666667\n",
      "6 2022-01-07     30      18.571429\n",
      "7 2022-01-08     35      22.142857\n",
      "8 2022-01-09     40      25.714286\n",
      "9 2022-01-10     20      25.714286\n"
     ]
    }
   ],
   "source": [
    "# Q10. Given a Pandas DataFrame df with a column 'Sales' and a column 'Date', write a Python function to\n",
    "# create a new column 'MovingAverage' that contains the moving average of the sales for the past 7 days\n",
    "# for each row in the DataFrame. The moving average should be calculated using a window of size 7 and\n",
    "# should include the current day.\n",
    "\n",
    "import pandas as pd\n",
    "\n",
    "def add_moving_average(df):\n",
    "    \n",
    "    window_size = 7\n",
    "    ma_column_name = 'MovingAverage'\n",
    "    ma_values = df['Sales'].rolling(window_size, min_periods=1).mean()\n",
    "    df[ma_column_name] = ma_values\n",
    "    return df\n",
    "\n",
    "\n",
    "\n",
    "# create a sample DataFrame with 'Sales' and 'Date' columns\n",
    "data = {'Date': pd.date_range(start='2022-01-01', periods=10),\n",
    "        'Sales': [10, 15, 20, 12, 18, 25, 30, 35, 40, 20]}\n",
    "df = pd.DataFrame(data)\n",
    "\n",
    "# add a new column 'MovingAverage' to the DataFrame using the add_moving_average() function\n",
    "df_with_ma = add_moving_average(df)\n",
    "\n",
    "# print the updated DataFrame\n",
    "print(df_with_ma)\n",
    "\n",
    "\n"
   ]
  },
  {
   "cell_type": "code",
   "execution_count": 21,
   "id": "6a36ed79-449a-420f-9424-b91a7828994e",
   "metadata": {},
   "outputs": [
    {
     "name": "stdout",
     "output_type": "stream",
     "text": [
      "        Date    Weekday\n",
      "0 2022-01-01   Saturday\n",
      "1 2022-01-02     Sunday\n",
      "2 2022-01-03     Monday\n",
      "3 2022-01-04    Tuesday\n",
      "4 2022-01-05  Wednesday\n",
      "5 2022-01-06   Thursday\n",
      "6 2022-01-07     Friday\n"
     ]
    }
   ],
   "source": [
    "# Q11. You have a Pandas DataFrame df with a column 'Date'. Write a Python function that creates a new\n",
    "# column 'Weekday' in the DataFrame. The 'Weekday' column should contain the weekday name (e.g.\n",
    "# Monday, Tuesday) corresponding to each date in the 'Date' column.\n",
    "\n",
    "\n",
    "import pandas as pd\n",
    "\n",
    "def add_weekday_column(df):\n",
    "    \n",
    "    weekday_column_name = 'Weekday'\n",
    "    df[weekday_column_name] = df['Date'].dt.day_name()\n",
    "    return df\n",
    "\n",
    "\n",
    "# create a sample DataFrame with a 'Date' column\n",
    "data = {'Date': pd.date_range(start='2022-01-01', periods=7)}\n",
    "df = pd.DataFrame(data)\n",
    "\n",
    "# add a new 'Weekday' column to the DataFrame using the add_weekday_column() function\n",
    "df_with_weekday = add_weekday_column(df)\n",
    "\n",
    "# print the updated DataFrame\n",
    "print(df_with_weekday)\n",
    "\n",
    "\n"
   ]
  },
  {
   "cell_type": "code",
   "execution_count": 22,
   "id": "88618de1-f9d8-4652-be7f-d3579233f706",
   "metadata": {},
   "outputs": [
    {
     "name": "stdout",
     "output_type": "stream",
     "text": [
      "         Date\n",
      "0  2023-01-01\n",
      "1  2023-01-02\n",
      "2  2023-01-03\n",
      "3  2023-01-04\n",
      "4  2023-01-05\n",
      "5  2023-01-06\n",
      "6  2023-01-07\n",
      "7  2023-01-08\n",
      "8  2023-01-09\n",
      "9  2023-01-10\n",
      "10 2023-01-11\n",
      "11 2023-01-12\n",
      "12 2023-01-13\n",
      "13 2023-01-14\n",
      "14 2023-01-15\n",
      "15 2023-01-16\n",
      "16 2023-01-17\n",
      "17 2023-01-18\n",
      "18 2023-01-19\n",
      "19 2023-01-20\n",
      "20 2023-01-21\n",
      "21 2023-01-22\n",
      "22 2023-01-23\n",
      "23 2023-01-24\n",
      "24 2023-01-25\n",
      "25 2023-01-26\n",
      "26 2023-01-27\n",
      "27 2023-01-28\n",
      "28 2023-01-29\n",
      "29 2023-01-30\n",
      "30 2023-01-31\n"
     ]
    }
   ],
   "source": [
    "# Q12. Given a Pandas DataFrame df with a column 'Date' that contains timestamps, write a Python\n",
    "# function to select all rows where the date is between '2023-01-01' and '2023-01-31'.\n",
    "\n",
    "import pandas as pd\n",
    "\n",
    "def select_january_data(df):\n",
    "    \n",
    "    mask = (df['Date'] >= '2023-01-01') & (df['Date'] <= '2023-01-31')\n",
    "    january_data = df.loc[mask]\n",
    "    return january_data\n",
    "\n",
    "\n",
    "\n",
    "# create a sample DataFrame with a 'Date' column\n",
    "data = {'Date': pd.date_range(start='2023-01-01', end='2023-02-28')}\n",
    "df = pd.DataFrame(data)\n",
    "\n",
    "# select all rows where the 'Date' column contains timestamps between '2023-01-01' and '2023-01-31'\n",
    "january_data = select_january_data(df)\n",
    "\n",
    "# print the resulting subset of data\n",
    "print(january_data)\n",
    "\n"
   ]
  },
  {
   "cell_type": "code",
   "execution_count": 24,
   "id": "f288936d-b8d8-4bb7-80e7-53066084adab",
   "metadata": {},
   "outputs": [
    {
     "data": {
      "text/plain": [
       "'\\nPandas library needed to be implemented.\\n'"
      ]
     },
     "execution_count": 24,
     "metadata": {},
     "output_type": "execute_result"
    }
   ],
   "source": [
    "# Q13. To use the basic functions of pandas, what is the first and foremost necessary library that needs to\n",
    "# be imported?\n",
    "'''\n",
    "Pandas library needed to be implemented.\n",
    "'''"
   ]
  },
  {
   "cell_type": "code",
   "execution_count": null,
   "id": "438acc66-01bd-47b5-bdc0-ae4ee21c1f5f",
   "metadata": {},
   "outputs": [],
   "source": []
  }
 ],
 "metadata": {
  "kernelspec": {
   "display_name": "Python 3 (ipykernel)",
   "language": "python",
   "name": "python3"
  },
  "language_info": {
   "codemirror_mode": {
    "name": "ipython",
    "version": 3
   },
   "file_extension": ".py",
   "mimetype": "text/x-python",
   "name": "python",
   "nbconvert_exporter": "python",
   "pygments_lexer": "ipython3",
   "version": "3.10.8"
  }
 },
 "nbformat": 4,
 "nbformat_minor": 5
}
