{
 "cells": [
  {
   "cell_type": "code",
   "execution_count": 1,
   "id": "c4413807-5bb4-4786-ac4b-68247f87deb6",
   "metadata": {},
   "outputs": [
    {
     "name": "stdout",
     "output_type": "stream",
     "text": [
      "course_name    Machine Learning\n",
      "duration                      3\n",
      "Name: 1, dtype: object\n"
     ]
    }
   ],
   "source": [
    "# Q1. Write a code to print the data present in the second row of the dataframe, df.\n",
    "\n",
    "import pandas as pd\n",
    "\n",
    "course_name = ['Data Science', 'Machine Learning', 'Big Data', 'Data Engineer']\n",
    "duration = [2, 3, 6, 4]\n",
    "df = pd.DataFrame(data={'course_name': course_name, 'duration': duration})\n",
    "\n",
    "# print the data present in the second row of the DataFrame\n",
    "print(df.iloc[1])\n"
   ]
  },
  {
   "cell_type": "code",
   "execution_count": 2,
   "id": "f8804d38-836b-4be8-b73e-eb3d9533d3d0",
   "metadata": {},
   "outputs": [
    {
     "name": "stdout",
     "output_type": "stream",
     "text": [
      "5\n",
      "5\n"
     ]
    }
   ],
   "source": [
    "# Q2. What is the difference between the functions loc and iloc in pandas.DataFrame?\n",
    "\n",
    "import pandas as pd\n",
    "\n",
    "df = pd.DataFrame({'A': [1, 2, 3], 'B': [4, 5, 6], 'C': [7, 8, 9]}, index=['X', 'Y', 'Z'])\n",
    "\n",
    "# using loc to access row 'Y' and column 'B' by their labels\n",
    "print(df.loc['Y', 'B'])\n",
    "\n",
    "# using iloc to access row at index 1 and column at index 1\n",
    "print(df.iloc[1, 1])\n",
    "\n"
   ]
  },
  {
   "cell_type": "code",
   "execution_count": 4,
   "id": "248600d9-0387-4d99-888e-e4ce37949195",
   "metadata": {},
   "outputs": [
    {
     "name": "stdout",
     "output_type": "stream",
     "text": [
      "   A  B\n",
      "3  4  8\n",
      "0  1  5\n",
      "1  2  6\n",
      "2  3  7\n"
     ]
    }
   ],
   "source": [
    "# Q3. Reindex the given dataframe using a variable, reindex = [3,0,1,2] and store it in the variable, new_df then find \n",
    "# the output forboth new_df.loc[2] and new_df.iloc[2].\n",
    "\n",
    "import pandas as pd\n",
    "\n",
    "# create the original DataFrame\n",
    "df = pd.DataFrame({'A': [1, 2, 3, 4], 'B': [5, 6, 7, 8]}, index=[0, 1, 2, 3])\n",
    "\n",
    "# define the new index\n",
    "reindex = [3, 0, 1, 2]\n",
    "\n",
    "# reindex the DataFrame using the new index\n",
    "new_df = df.reindex(reindex)\n",
    "\n",
    "# print the new DataFrame\n",
    "print(new_df)\n"
   ]
  },
  {
   "cell_type": "code",
   "execution_count": 7,
   "id": "943baff3-50cd-4b53-b1c9-1a25e5d2839f",
   "metadata": {},
   "outputs": [
    {
     "name": "stdout",
     "output_type": "stream",
     "text": [
      "column_1    0.251240\n",
      "column_2    0.750299\n",
      "column_3    0.480912\n",
      "column_4    0.487341\n",
      "column_5    0.458951\n",
      "column_6    0.646197\n",
      "dtype: float64\n"
     ]
    },
    {
     "data": {
      "text/plain": [
       "0.2761840744135051"
      ]
     },
     "execution_count": 7,
     "metadata": {},
     "output_type": "execute_result"
    }
   ],
   "source": [
    "# Q4. Write a code to find the following statistical measurements for the above dataframe df1:\n",
    "# (i) mean of each and every column present in the dataframe.\n",
    "# (ii) standard deviation of column, ‘column_2’\n",
    "\n",
    "import pandas as pd\n",
    "import numpy as np\n",
    "columns = ['column_1', 'column_2', 'column_3', 'column_4', 'column_5', 'column_6']\n",
    "indices = [1,2,3,4,5,6]\n",
    "#Creating a dataframe:\n",
    "df1 = pd.DataFrame(np.random.rand(6,6), columns = columns, index = indices)\n",
    "\n",
    "# Finding the mean of each column\n",
    "print(df1.mean())\n",
    "\n",
    "# Finding the standard deviation of 'column_2'\n",
    "df1['column_2'].std()\n",
    "\n"
   ]
  },
  {
   "cell_type": "code",
   "execution_count": 12,
   "id": "39b0405f-0b1a-4d81-ba13-8f6ca7dc051f",
   "metadata": {},
   "outputs": [
    {
     "name": "stdout",
     "output_type": "stream",
     "text": [
      "unsupported operand type(s) for +: 'float' and 'str'\n"
     ]
    },
    {
     "data": {
      "text/plain": [
       "\"\\nTo calculate the mean of 'column_2', we need to ensure that all values in the column are numeric. \\nSo we need to replace the string value with a numeric value before calculating the mean.\\n\""
      ]
     },
     "execution_count": 12,
     "metadata": {},
     "output_type": "execute_result"
    }
   ],
   "source": [
    "# Q5. Replace the data present in the second row of column, ‘column_2’ by a string variable then find the\n",
    "# mean of column, column_2.\n",
    "# If you are getting errors in executing it then explain why.\n",
    "\n",
    "import pandas as pd\n",
    "import numpy as np\n",
    "columns = ['column_1', 'column_2', 'column_3', 'column_4', 'column_5', 'column_6']\n",
    "indices = [1,2,3,4,5,6]\n",
    "#Creating a dataframe:\n",
    "df1 = pd.DataFrame(np.random.rand(6,6), columns = columns, index = indices)\n",
    "\n",
    "# Replacing the data in the second row of 'column_2' with a string\n",
    "df1.loc[2, 'column_2'] = 'string'\n",
    "\n",
    "# Finding the mean of 'column_2'\n",
    "try:\n",
    "    df1['column_2'].mean()\n",
    "except Exception as e :\n",
    "    print(e)\n",
    "\n",
    "'''\n",
    "To calculate the mean of 'column_2', we need to ensure that all values in the column are numeric. \n",
    "So we need to replace the string value with a numeric value before calculating the mean.\n",
    "'''"
   ]
  },
  {
   "cell_type": "code",
   "execution_count": null,
   "id": "65078bc3-2ead-47a7-a76b-c12a962c4e05",
   "metadata": {},
   "outputs": [],
   "source": [
    "# Q6. What do you understand about the windows function in pandas and list the types of windows\n",
    "# functions?\n",
    "'''\n",
    "In pandas, a window function is a way to perform calculations on a subset of data within a specified window or range.\n",
    "\n",
    "Rolling Window Functions\n",
    "Expanding Window Functions\n",
    "Exponentially Weighted Window Functions\n",
    "Centered Window Functions\n",
    "'''"
   ]
  },
  {
   "cell_type": "code",
   "execution_count": 14,
   "id": "63b50018-9da1-4241-b045-a181a18ff21f",
   "metadata": {},
   "outputs": [
    {
     "name": "stdout",
     "output_type": "stream",
     "text": [
      "Current month: 3\n",
      "Current year: 2023\n"
     ]
    }
   ],
   "source": [
    "# Q7. Write a code to print only the current month and year at the time of answering this question.\n",
    "\n",
    "from datetime import datetime\n",
    "\n",
    "now = datetime.now()\n",
    "\n",
    "current_month = now.month\n",
    "current_year = now.year\n",
    "\n",
    "print(\"Current month:\", current_month)\n",
    "print(\"Current year:\", current_year)\n"
   ]
  },
  {
   "cell_type": "code",
   "execution_count": 16,
   "id": "b42d7854-23e0-49ba-8863-5b5bf23eba97",
   "metadata": {},
   "outputs": [
    {
     "name": "stdin",
     "output_type": "stream",
     "text": [
      "Enter the first date (YYYY-MM-DD):  2023-03-09\n",
      "Enter the second date (YYYY-MM-DD):  2002-04-22\n"
     ]
    },
    {
     "name": "stdout",
     "output_type": "stream",
     "text": [
      "The difference between 2023-03-09 and 2002-04-22 is -7626 days, 0 hours, and 0 minutes.\n"
     ]
    }
   ],
   "source": [
    "# Q8. Write a Python program that takes in two dates as input (in the format YYYY-MM-DD) and\n",
    "# calculates the difference between them in days, hours, and minutes using Pandas time delta. The\n",
    "# program should prompt the user to enter the dates and display the result.\n",
    "\n",
    "import pandas as pd\n",
    "\n",
    "# Prompt the user to enter the dates\n",
    "date1_str = input(\"Enter the first date (YYYY-MM-DD): \")\n",
    "date2_str = input(\"Enter the second date (YYYY-MM-DD): \")\n",
    "\n",
    "# Convert the strings to datetime objects\n",
    "date1 = pd.to_datetime(date1_str)\n",
    "date2 = pd.to_datetime(date2_str)\n",
    "\n",
    "# Calculate the time delta between the two dates\n",
    "delta = date2 - date1\n",
    "\n",
    "# Extract the number of days, hours, and minutes from the time delta\n",
    "days = delta.days\n",
    "hours = delta.seconds // 3600\n",
    "minutes = (delta.seconds // 60) % 60\n",
    "\n",
    "# Display the result\n",
    "print(f\"The difference between {date1_str} and {date2_str} is {days} days, {hours} hours, and {minutes} minutes.\")\n",
    "\n"
   ]
  },
  {
   "cell_type": "code",
   "execution_count": null,
   "id": "87668fb6-d151-4de2-a448-e0be90f96129",
   "metadata": {},
   "outputs": [],
   "source": [
    "# Q9. Write a Python program that reads a CSV file containing categorical data and converts a specified\n",
    "# column to a categorical data type. The program should prompt the user to enter the file path, column\n",
    "# name, and category order, and then display the sorted data.\n",
    "import pandas as pd\n",
    "\n",
    "# Prompt user to enter file path and read CSV file\n",
    "file_path = input(\"Enter file path: \")\n",
    "df = pd.read_csv(file_path)\n",
    "\n",
    "# Prompt user to enter column name and category order\n",
    "column_name = input(\"Enter column name to convert to categorical: \")\n",
    "category_order = input(\"Enter category order (comma-separated): \").split(',')\n",
    "\n",
    "# Convert column to categorical data type with specified category order\n",
    "df[column_name] = pd.Categorical(df[column_name], categories=category_order, ordered=True)\n",
    "\n",
    "# Display sorted data\n",
    "print(df.sort_values(column_name))"
   ]
  },
  {
   "cell_type": "code",
   "execution_count": null,
   "id": "4033cd93-2b0b-4265-903e-a3d9f8d78f67",
   "metadata": {},
   "outputs": [],
   "source": [
    "# Q10. Write a Python program that reads a CSV file containing sales data for different products and\n",
    "# visualizes the data using a stacked bar chart to show the sales of each product category over time. The\n",
    "# program should prompt the user to enter the file path and display the chart.\n",
    "\n",
    "import pandas as pd\n",
    "import matplotlib.pyplot as plt\n",
    "\n",
    "# Prompt user to enter file path\n",
    "file_path = input(\"Enter CSV file path: \")\n",
    "\n",
    "# Read CSV file into a Pandas DataFrame\n",
    "df = pd.read_csv(file_path)\n",
    "\n",
    "# Convert 'date' column to datetime format\n",
    "df['date'] = pd.to_datetime(df['date'])\n",
    "\n",
    "# Group data by product category and date, and calculate total sales\n",
    "grouped_data = df.groupby(['product_category', 'date']).sum()\n",
    "\n",
    "# Pivot data to create a stacked bar chart\n",
    "pivot_data = grouped_data.pivot_table(values='sales', index='date', columns='product_category')\n",
    "\n",
    "# Create stacked bar chart\n",
    "pivot_data.plot(kind='bar', stacked=True)\n",
    "\n",
    "# Set chart title and labels\n",
    "plt.title('Sales by Product Category over Time')\n",
    "plt.xlabel('Date')\n",
    "plt.ylabel('Sales')\n",
    "\n",
    "# Display chart\n",
    "plt.show()\n"
   ]
  },
  {
   "cell_type": "code",
   "execution_count": null,
   "id": "25b567e0-1caf-4d45-bf08-f247613bbb67",
   "metadata": {},
   "outputs": [],
   "source": [
    "# Q11. You are given a CSV file containing student data that includes the student ID and their test score. Write\n",
    "# a Python program that reads the CSV file, calculates the mean, median, and mode of the test scores, and\n",
    "# displays the results in a table.\n",
    "\n",
    "\n"
   ]
  },
  {
   "cell_type": "code",
   "execution_count": null,
   "id": "a05e6878-0c35-4a94-a42f-aca747a64afa",
   "metadata": {},
   "outputs": [],
   "source": []
  }
 ],
 "metadata": {
  "kernelspec": {
   "display_name": "Python 3 (ipykernel)",
   "language": "python",
   "name": "python3"
  },
  "language_info": {
   "codemirror_mode": {
    "name": "ipython",
    "version": 3
   },
   "file_extension": ".py",
   "mimetype": "text/x-python",
   "name": "python",
   "nbconvert_exporter": "python",
   "pygments_lexer": "ipython3",
   "version": "3.10.8"
  }
 },
 "nbformat": 4,
 "nbformat_minor": 5
}
