{
 "cells": [
  {
   "cell_type": "code",
   "execution_count": 18,
   "id": "7b8d62e5-e1f5-420d-9a96-de9652bd2a78",
   "metadata": {},
   "outputs": [],
   "source": [
    "# Q1:\n",
    "from functools import reduce\n",
    "def fun(l):\n",
    "#     declaring the empty list to store the values\n",
    "    fl = []\n",
    "    for i in l:\n",
    "#       for integers\n",
    "        if type(i) is int:\n",
    "            fl.append(i)\n",
    "            \n",
    "#       for lists\n",
    "        if type(i) is list:\n",
    "            for j in i:\n",
    "                if type(j) is int:\n",
    "                    fl.append(j)\n",
    "#       for tuple           \n",
    "        if type(i) is tuple:\n",
    "            for j in i:\n",
    "                if type(j) is int:\n",
    "                    fl.append(j)\n",
    "                    \n",
    "#       for set        \n",
    "        if type(i) is set:\n",
    "            i = list(i)\n",
    "            for j in i:\n",
    "                if type(j) is int:\n",
    "                    fl.append(j)\n",
    "                    \n",
    "#       for dictionaries\n",
    "        if type(i) is dict:\n",
    "            keys = i.keys()\n",
    "            values = i.values()\n",
    "#           for kyes \n",
    "            for items in keys:\n",
    "                if type(items) is int:\n",
    "                    fl.append(items)\n",
    "#           for values\n",
    "            for items in values:\n",
    "                if type(items) is int:\n",
    "                    fl.append(items)\n",
    "                if type(items) is tuple:\n",
    "                    for item in items:\n",
    "                        fl.append(item)\n",
    "                if type(items) is list:\n",
    "                    for item in items:\n",
    "                        fl.append(item)\n",
    "                if type(items) is dict:\n",
    "                    fun(items)\n",
    "                    \n",
    "    final  = reduce(lambda x,y : x*y , fl )\n",
    "                \n",
    "    return final\n",
    "    "
   ]
  },
  {
   "cell_type": "code",
   "execution_count": 21,
   "id": "f9ffb6b9-3cb1-4959-8ee1-35c8a1f54863",
   "metadata": {},
   "outputs": [
    {
     "name": "stdout",
     "output_type": "stream",
     "text": [
      "4134711838987085478833841242112000\n"
     ]
    }
   ],
   "source": [
    "list1 = [1,2,3,4, [44,55,66, True], False, (34,56,78,89,34), {1,2,3,3,2,1}, {1:34, \"key2\": [55, 67, 78, 89], 4: (45,\n",
    "22, 61, 34)}, [56, 'data science'], 'Machine Learning']\n",
    "x = fun(list1)\n",
    "print(x)"
   ]
  },
  {
   "cell_type": "code",
   "execution_count": 44,
   "id": "851b6756-4a2b-41e4-a29e-d88fbf296bc0",
   "metadata": {},
   "outputs": [],
   "source": [
    "# Q2:\n",
    "def encrypt(string):\n",
    "    code = []\n",
    "    string = string.lower()\n",
    "    string = list(string)\n",
    "    for i in string:\n",
    "        if i == \" \":\n",
    "            code.append(\"$\")\n",
    "        else:\n",
    "            x = ord(i)\n",
    "            diff = x - 97\n",
    "            cipher = 122 - diff\n",
    "            cipher  = chr(cipher)\n",
    "            code.append(cipher)\n",
    "            \n",
    "    final = \"\"\n",
    "    for ele in code:\n",
    "        final += ele\n",
    "    \n",
    "    return final\n",
    "            "
   ]
  },
  {
   "cell_type": "code",
   "execution_count": 46,
   "id": "9790925c-13bd-4f45-921c-5d4d9a699659",
   "metadata": {},
   "outputs": [
    {
     "data": {
      "text/plain": [
       "'$kdhprooh$'"
      ]
     },
     "execution_count": 46,
     "metadata": {},
     "output_type": "execute_result"
    }
   ],
   "source": [
    "l = \" pwskills \"\n",
    "y = encrypt(l)\n",
    "y"
   ]
  },
  {
   "cell_type": "code",
   "execution_count": null,
   "id": "4f0731f4-20bb-4a9d-bd1f-5cd5ad14334b",
   "metadata": {},
   "outputs": [],
   "source": []
  }
 ],
 "metadata": {
  "kernelspec": {
   "display_name": "Python 3 (ipykernel)",
   "language": "python",
   "name": "python3"
  },
  "language_info": {
   "codemirror_mode": {
    "name": "ipython",
    "version": 3
   },
   "file_extension": ".py",
   "mimetype": "text/x-python",
   "name": "python",
   "nbconvert_exporter": "python",
   "pygments_lexer": "ipython3",
   "version": "3.10.8"
  }
 },
 "nbformat": 4,
 "nbformat_minor": 5
}
