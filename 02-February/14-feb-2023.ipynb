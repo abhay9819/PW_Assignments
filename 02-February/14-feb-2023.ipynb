{
 "cells": [
  {
   "cell_type": "code",
   "execution_count": 1,
   "id": "f0b69acd-6d33-4b99-a405-3cf1a886288d",
   "metadata": {},
   "outputs": [
    {
     "data": {
      "text/plain": [
       "'\\nAns: Multithreading in Python is a programming technique that allows multiple \\nthreads of execution to run concurrently within a single process. \\nIt is used to improve the performance of applications that can benefit from parallel \\nprocessing, such as network and I/O-bound programs.\\n\\nThe threading module is used to handle threads in Python.\\n'"
      ]
     },
     "execution_count": 1,
     "metadata": {},
     "output_type": "execute_result"
    }
   ],
   "source": [
    "# Q1:\n",
    "# hat is multithreading in python? hy is it used? Name the module used to handle threads in python\n",
    "\"\"\"\n",
    "Ans: Multithreading in Python is a programming technique that allows multiple \n",
    "threads of execution to run concurrently within a single process. \n",
    "It is used to improve the performance of applications that can benefit from parallel \n",
    "processing, such as network and I/O-bound programs.\n",
    "\n",
    "The threading module is used to handle threads in Python.\n",
    "\"\"\"\n"
   ]
  },
  {
   "cell_type": "code",
   "execution_count": 2,
   "id": "4b2034d2-0e30-45b3-a6cc-2a9b9f0cfa4e",
   "metadata": {},
   "outputs": [
    {
     "data": {
      "text/plain": [
       "'\\nAns: The threading module is used in Python to handle threads, which allows for concurrent \\nexecution within a single process.\\n\\nactivecount() : This function is used to return the number of active threads in the current process.\\n\\ncurrentThread() : This function is used to return the current thread object, which represents the \\nthread that is currently executing.\\n\\nenumerate() : This function is used to return a list of all thread objects that are \\ncurrently active in the current process. It can be used to iterate over all threads and \\nperform some action on each one.\\n'"
      ]
     },
     "execution_count": 2,
     "metadata": {},
     "output_type": "execute_result"
    }
   ],
   "source": [
    "# Q2:\n",
    "# why threading module used? write the use of the following functions\n",
    "# 1.activeCount()\n",
    "# 2.currentThread()\n",
    "# 3.enumerate()\n",
    "\"\"\"\n",
    "Ans: The threading module is used in Python to handle threads, which allows for concurrent \n",
    "execution within a single process.\n",
    "\n",
    "activecount() : This function is used to return the number of active threads in the current process.\n",
    "\n",
    "currentThread() : This function is used to return the current thread object, which represents the \n",
    "thread that is currently executing.\n",
    "\n",
    "enumerate() : This function is used to return a list of all thread objects that are \n",
    "currently active in the current process. It can be used to iterate over all threads and \n",
    "perform some action on each one.\n",
    "\"\"\""
   ]
  },
  {
   "cell_type": "code",
   "execution_count": 3,
   "id": "ab8a4a3e-a9e5-4606-92fc-94ab3ae3fd82",
   "metadata": {},
   "outputs": [
    {
     "data": {
      "text/plain": [
       "'\\nAns: run(): This function represents the code that will be executed by a thread. \\nWhen a thread is started using the start() method, it calls the run() function to execute\\nthe code within the thread.\\n\\nstart(): This function is used to start a new thread of execution. When this method is called, \\nthe run() method of the thread is executed in a separate thread of control.\\n\\njoin(): This function is used to wait for a thread to complete its execution. When this \\nmethod is called on a thread object, the calling thread will block until the thread \\nrepresented by the object has completed.\\n\\nisAlive(): This function is used to check whether a thread is currently executing. \\nIt returns True if the thread is still running and False if it has completed execution. \\n'"
      ]
     },
     "execution_count": 3,
     "metadata": {},
     "output_type": "execute_result"
    }
   ],
   "source": [
    "# Q3:\n",
    "# Explain the following functions\n",
    "# run()\n",
    "# start()\n",
    "# join()\n",
    "# isAlive()\n",
    "\"\"\"\n",
    "Ans: run(): This function represents the code that will be executed by a thread. \n",
    "When a thread is started using the start() method, it calls the run() function to execute\n",
    "the code within the thread.\n",
    "\n",
    "start(): This function is used to start a new thread of execution. When this method is called, \n",
    "the run() method of the thread is executed in a separate thread of control.\n",
    "\n",
    "join(): This function is used to wait for a thread to complete its execution. When this \n",
    "method is called on a thread object, the calling thread will block until the thread \n",
    "represented by the object has completed.\n",
    "\n",
    "isAlive(): This function is used to check whether a thread is currently executing. \n",
    "It returns True if the thread is still running and False if it has completed execution. \n",
    "\"\"\""
   ]
  },
  {
   "cell_type": "code",
   "execution_count": 4,
   "id": "b95abd84-ae72-4e48-87b6-f6188cf0485c",
   "metadata": {},
   "outputs": [],
   "source": [
    "# Q4:\n"
   ]
  },
  {
   "cell_type": "code",
   "execution_count": 6,
   "id": "c75f71ca-9920-44c5-ba37-523494998973",
   "metadata": {},
   "outputs": [
    {
     "data": {
      "text/plain": [
       "'\\nAns:\\nAdvantages:\\nImproved Performance\\nResource sharing\\nSimplified Design\\n\\nDisadvantages:\\nComplexity\\nOverhead \\nsynchronizaiton issues\\nScalability\\n'"
      ]
     },
     "execution_count": 6,
     "metadata": {},
     "output_type": "execute_result"
    }
   ],
   "source": [
    "# Q5:\n",
    "# State advantages and disadvantages of multithreading\n",
    "\"\"\"\n",
    "Ans:\n",
    "Advantages:\n",
    "Improved Performance\n",
    "Resource sharing\n",
    "Simplified Design\n",
    "\n",
    "Disadvantages:\n",
    "Complexity\n",
    "Overhead \n",
    "synchronizaiton issues\n",
    "Scalability\n",
    "\"\"\"\n"
   ]
  },
  {
   "cell_type": "code",
   "execution_count": null,
   "id": "6b8368cb-e1da-4648-a4e0-41515af9300f",
   "metadata": {},
   "outputs": [],
   "source": [
    "# Q5:\n",
    "# Explain deadlocks and race conditions.\n",
    "\"\"\"\n",
    "Ans: \n",
    "Deadlock: A deadlock occurs when two or more threads are blocked, each waiting for the \n",
    "other to release a resource that it needs to proceed. Simply, each thread is waiting for the other \n",
    "thread to release a resource, and neither thread can proceed.\n",
    "\n",
    "Race condition: A race condition occurs when two or more threads access a shared resource \n",
    "in an uncoordinated way, resulting in unpredictable behavior. This can happen when multiple threads attempt to modify the same variable or data structure at the same time."
   ]
  }
 ],
 "metadata": {
  "kernelspec": {
   "display_name": "Python 3 (ipykernel)",
   "language": "python",
   "name": "python3"
  },
  "language_info": {
   "codemirror_mode": {
    "name": "ipython",
    "version": 3
   },
   "file_extension": ".py",
   "mimetype": "text/x-python",
   "name": "python",
   "nbconvert_exporter": "python",
   "pygments_lexer": "ipython3",
   "version": "3.10.8"
  }
 },
 "nbformat": 4,
 "nbformat_minor": 5
}
