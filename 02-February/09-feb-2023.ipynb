{
 "cells": [
  {
   "cell_type": "code",
   "execution_count": 1,
   "id": "3f051862-bd16-439f-9366-b219050a5c06",
   "metadata": {},
   "outputs": [],
   "source": [
    "# Q1:\n",
    "# Create a vehicle class with an init method having instance variables as name_of_vehicle, max_speed\n",
    "# and average_of_vehicle.\n",
    "class vehicle:\n",
    "    \n",
    "    def __init__(self,name_of_vehicle, max_speed,average_of_vehicle):\n",
    "        self.name = name_of_vehicle\n",
    "        self.speed = max_speed\n",
    "        self.average = average_of_vehicle\n",
    "        \n",
    "    def display_info(self):\n",
    "        print(\"name_of_vehicle: \",self.name,\"\\nMax_speed: \",self.speed,\"\\naverage_of_vehicle: \",self.average)\n",
    "        \n",
    "        \n",
    "        "
   ]
  },
  {
   "cell_type": "code",
   "execution_count": 2,
   "id": "a00eec8a-121e-4f31-8900-8bc65980dff6",
   "metadata": {},
   "outputs": [],
   "source": [
    "v =vehicle(\"Tata\",240,100)"
   ]
  },
  {
   "cell_type": "code",
   "execution_count": 3,
   "id": "d9d6d72a-1832-41bf-a040-732a7822283d",
   "metadata": {},
   "outputs": [
    {
     "name": "stdout",
     "output_type": "stream",
     "text": [
      "name_of_vehicle:  Tata \n",
      "Max_speed:  240 \n",
      "average_of_vehicle:  100\n"
     ]
    }
   ],
   "source": [
    "v.display_info()"
   ]
  },
  {
   "cell_type": "code",
   "execution_count": 5,
   "id": "c16ff797-c87c-48b9-beb0-646671df5ca5",
   "metadata": {},
   "outputs": [],
   "source": [
    "# Q2:\n",
    "# Create a child class car from the vehicle class created in Que 1, which will inherit the vehicle class.\n",
    "# Create a method named seating_capacity which takes capacity as an argument and returns the name of\n",
    "# the vehicle and its seating capacity.\n",
    "\n",
    "class Car(vehicle):\n",
    "    def seating_capacity(self, capacity):\n",
    "        return f\"{self.name} has a seating capacity of {capacity} passengers.\"\n"
   ]
  },
  {
   "cell_type": "code",
   "execution_count": 8,
   "id": "4d7f6169-57f6-446b-8ba2-af934fb6ac8e",
   "metadata": {},
   "outputs": [
    {
     "name": "stdout",
     "output_type": "stream",
     "text": [
      "Toyota Corolla has a seating capacity of 5 passengers.\n"
     ]
    }
   ],
   "source": [
    "my_car = Car('Toyota Corolla', 200, 180)\n",
    "print(my_car.seating_capacity(5))"
   ]
  },
  {
   "cell_type": "code",
   "execution_count": 9,
   "id": "dedef689-4f04-4895-b074-737b3169aff8",
   "metadata": {},
   "outputs": [
    {
     "name": "stdout",
     "output_type": "stream",
     "text": [
      "Blue Jay is eating.\n",
      "Blue Jay is flying.\n",
      "Blue Jay is singing.\n"
     ]
    }
   ],
   "source": [
    "# Q3:\n",
    "# What is multiple inheritance? Write a python code to demonstrate multiple inheritance.\n",
    "\"\"\"\n",
    "Ans: Multiple inheritance is a feature in object-oriented programming \n",
    "where a class can inherit from multiple parent classes. This allows the child class to \n",
    "inherit attributes and methods from all of its parent classes.\n",
    "\"\"\"\n",
    "# Example:\n",
    "class Animal:\n",
    "    def __init__(self, name):\n",
    "        self.name = name\n",
    "\n",
    "    def eat(self):\n",
    "        print(f\"{self.name} is eating.\")\n",
    "\n",
    "class Flyable:\n",
    "    def fly(self):\n",
    "        print(f\"{self.name} is flying.\")\n",
    "\n",
    "class Bird(Animal, Flyable):\n",
    "    def __init__(self, name, species):\n",
    "        Animal.__init__(self, name)\n",
    "        self.species = species\n",
    "\n",
    "    def sing(self):\n",
    "        print(f\"{self.name} is singing.\")\n",
    "\n",
    "bird = Bird(\"Blue Jay\", \"Cyanocitta cristata\")\n",
    "bird.eat()   # Output: \"Blue Jay is eating.\"\n",
    "bird.fly()   # Output: \"Blue Jay is flying.\"\n",
    "bird.sing()  # Output: \"Blue Jay is singing.\"\n"
   ]
  },
  {
   "cell_type": "code",
   "execution_count": 11,
   "id": "532368bc-95b0-49a3-a2ee-cdc0960bbc37",
   "metadata": {},
   "outputs": [
    {
     "name": "stdout",
     "output_type": "stream",
     "text": [
      "Abhay\n",
      "Sharma\n"
     ]
    }
   ],
   "source": [
    "# Q4:\n",
    "# What are getter and setter in python? Create a class and create a getter and \n",
    "# a setter method in this class.\n",
    "\"\"\"\n",
    "Ans: In Python, getter and setter methods are used to retrieve and \n",
    "set the values of class attributes respectively. They allow you to control how \n",
    "attributes are accessed and modified, which can be useful for ensuring data consistency and \n",
    "enforcing business rules.\n",
    "\"\"\"\n",
    "# Example:\n",
    "\n",
    "class Person:\n",
    "    def __init__(self, name):\n",
    "        self._name = name\n",
    "\n",
    "    def get_name(self):\n",
    "        return self._name\n",
    "\n",
    "    def set_name(self, name):\n",
    "        self._name = name\n",
    "\n",
    "# Example usage:\n",
    "person = Person(\"Abhay\")\n",
    "print(person.get_name())  # Output: \"John\"\n",
    "person.set_name(\"Sharma\")\n",
    "print(person.get_name())  # Output: \"Jane\"\n",
    "\n"
   ]
  },
  {
   "cell_type": "code",
   "execution_count": 13,
   "id": "0a75d421-2901-4135-b1a0-32489d2c6142",
   "metadata": {
    "tags": []
   },
   "outputs": [
    {
     "name": "stdout",
     "output_type": "stream",
     "text": [
      "The animal makes a sound.\n",
      "The dog barks.\n",
      "The cat meows.\n"
     ]
    }
   ],
   "source": [
    "# Q5:\n",
    "# What is method overriding in python? Write a python code to demonstrate method overriding.\n",
    "\"\"\"\n",
    "Ans:\n",
    "Method overriding is a feature in object-oriented programming where \n",
    "a subclass provides its own implementation of a method that is already defined in \n",
    "its parent class. This allows the child class to customize the behavior of the method \n",
    "without changing the behavior of other classes that inherit from the parent class.\n",
    "\"\"\"\n",
    "# Example:\n",
    "class Animal:\n",
    "    def sound(self):\n",
    "        print(\"The animal makes a sound.\")\n",
    "\n",
    "class Dog(Animal):\n",
    "    def sound(self):\n",
    "        print(\"The dog barks.\")\n",
    "\n",
    "class Cat(Animal):\n",
    "    def sound(self):\n",
    "        print(\"The cat meows.\")\n",
    "\n",
    "animal = Animal()\n",
    "dog = Dog()\n",
    "cat = Cat()\n",
    "\n",
    "animal.sound()  # Output: \"The animal makes a sound.\"\n",
    "dog.sound()     # Output: \"The dog barks.\"\n",
    "cat.sound()     # Output: \"The cat meows.\"\n"
   ]
  },
  {
   "cell_type": "code",
   "execution_count": null,
   "id": "3425cb40-f0e1-4ae7-aa60-2d08c3085e1f",
   "metadata": {},
   "outputs": [],
   "source": []
  },
  {
   "cell_type": "code",
   "execution_count": null,
   "id": "1395eaa9-e635-4259-9f36-648dab5c82a2",
   "metadata": {},
   "outputs": [],
   "source": []
  }
 ],
 "metadata": {
  "kernelspec": {
   "display_name": "Python 3 (ipykernel)",
   "language": "python",
   "name": "python3"
  },
  "language_info": {
   "codemirror_mode": {
    "name": "ipython",
    "version": 3
   },
   "file_extension": ".py",
   "mimetype": "text/x-python",
   "name": "python",
   "nbconvert_exporter": "python",
   "pygments_lexer": "ipython3",
   "version": "3.10.8"
  }
 },
 "nbformat": 4,
 "nbformat_minor": 5
}
