{
 "cells": [
  {
   "cell_type": "code",
   "execution_count": 1,
   "id": "5c82cdd7-7be7-4367-a5b1-4a355302c9bd",
   "metadata": {},
   "outputs": [
    {
     "name": "stdout",
     "output_type": "stream",
     "text": [
      "Abhay Sharma\n",
      "Bakers street, Mumbai TAXINFO123 1234567890\n",
      "Indian Python Programming A+\n"
     ]
    }
   ],
   "source": [
    "# Q1: What is Abstraction in OOps? Explain with an example.\n",
    "\"\"\"\n",
    "Abstraction is used to hide the internal functionality of the function from the users. \n",
    "The users only interact with the basic implementation of the function, but inner working is hidden. \n",
    "User is familiar with that \"what function does\" but they don't know \"how it does.\"\n",
    "\n",
    "\"\"\"\n",
    "# Example:\n",
    "\n",
    "class Person:\n",
    "    def __init__(self):\n",
    "        self.name = \"Abhay Sharma\"\n",
    "\n",
    "    def bio(self):\n",
    "        self.addr = \"Bakers street, Mumbai\"\n",
    "        self.taxInfo = \"TAXINFO123\"\n",
    "        self.contact = \"1234567890\"\n",
    "        print(self.addr, self.taxInfo, self.contact)\n",
    "\n",
    "    def interest(self):\n",
    "        self.favFood = \"Indian\"\n",
    "        self.hobbies = \"Python Programming\"\n",
    "        self.bloodGroup = \"A+\"\n",
    "        print(self.favFood, self.hobbies, self.bloodGroup)\n",
    "\n",
    "obj = Person()\n",
    "print(obj.name)\n",
    "obj.bio()\n",
    "obj.interest()"
   ]
  },
  {
   "cell_type": "code",
   "execution_count": 3,
   "id": "48438844-1032-4005-aa3e-4db61ccc9428",
   "metadata": {},
   "outputs": [
    {
     "data": {
      "text/plain": [
       "'\\nThe main difference between abstraction vs encapsulation is that the problem is solved\\nby Abstraction at the design level and the application level by Encapsulation. \\nAbstraction involves hiding unwanted information while providing the most important information, \\nwhereas encapsulation implies hiding code and information in one device.\\n\\n'"
      ]
     },
     "execution_count": 3,
     "metadata": {},
     "output_type": "execute_result"
    }
   ],
   "source": [
    "# Q2: Differentiate between Abstraction and Encapsulation. Explain with an example.\n",
    "\"\"\"\n",
    "The main difference between abstraction vs encapsulation is that the problem is solved\n",
    "by Abstraction at the design level and the application level by Encapsulation. \n",
    "Abstraction involves hiding unwanted information while providing the most important information, \n",
    "whereas encapsulation implies hiding code and information in one device.\n",
    "\n",
    "\"\"\"\n",
    "# Example:\n"
   ]
  },
  {
   "cell_type": "code",
   "execution_count": 6,
   "id": "973ee188-ee9e-4e69-86b8-6ed231df383b",
   "metadata": {},
   "outputs": [
    {
     "data": {
      "text/plain": [
       "'\\nThe main goal of the abstract base class is to provide a standardized way to test whether \\nan object adheres to a given specification. It can also prevent any attempt to instantiate \\na subclass that doesn’t override a particular method in the superclass. And finally, \\nusing an abstract class, a class can derive identity from another class without any object inheritance.\\n'"
      ]
     },
     "execution_count": 6,
     "metadata": {},
     "output_type": "execute_result"
    }
   ],
   "source": [
    "# Q3: What is abc module in python? Why is it used?\n",
    "\"\"\"\n",
    "The main goal of the abstract base class is to provide a standardized way to test whether \n",
    "an object adheres to a given specification. It can also prevent any attempt to instantiate \n",
    "a subclass that doesn’t override a particular method in the superclass. And finally, \n",
    "using an abstract class, a class can derive identity from another class without any object inheritance.\n",
    "\"\"\""
   ]
  },
  {
   "cell_type": "code",
   "execution_count": 5,
   "id": "07d350ba-150b-4938-8668-a00419b11d8f",
   "metadata": {},
   "outputs": [
    {
     "data": {
      "text/plain": [
       "'\\nWe can define an abstract method using @abstractmethod keyword on the top of a method. \\nWe can use abc module of python to achieve data abstraction in python. \\nTo define an abstract method in python we can import abstractmethod from the abc module of python.\\n\\n'"
      ]
     },
     "execution_count": 5,
     "metadata": {},
     "output_type": "execute_result"
    }
   ],
   "source": [
    "# Q4: How can we achieve data abstraction?\n",
    "\"\"\"\n",
    "We can define an abstract method using @abstractmethod keyword on the top of a method. \n",
    "We can use abc module of python to achieve data abstraction in python. \n",
    "To define an abstract method in python we can import abstractmethod from the abc module of python.\n",
    "\n",
    "\"\"\""
   ]
  },
  {
   "cell_type": "code",
   "execution_count": 4,
   "id": "b29a893c-450e-4c3d-8e87-66cccc8bd51f",
   "metadata": {
    "tags": []
   },
   "outputs": [
    {
     "data": {
      "text/plain": [
       "\"\\nNo, instead we can create instance of all other classes extending that abstract class.\\nBecause it's abstract and an object is concrete. An abstract class is sort of like a template, \\nor an empty/partially empty structure, we have to extend it and build on it before we can use it.\\nBut an abstract class has a protected constructor (by default) and we can declare our own constructor \\nalso allowing derived types (i.e classes) to initialize it member variables so that those \\n(member variables) would be accessible to their derived types through inheritance.\\nConclusion: we can’t create instance directly using new keyword, but we can call its \\nconstructor not to create its instance but to provide initialization to its member \\nvariables such that those variables can be accessible and used in its derived classes.\\n\""
      ]
     },
     "execution_count": 4,
     "metadata": {},
     "output_type": "execute_result"
    }
   ],
   "source": [
    "# Q5: Can we create an instance of an abstract class? Explain your answer.\n",
    "\"\"\"\n",
    "No, instead we can create instance of all other classes extending that abstract class.\n",
    "Because it's abstract and an object is concrete. An abstract class is sort of like a template, \n",
    "or an empty/partially empty structure, we have to extend it and build on it before we can use it.\n",
    "But an abstract class has a protected constructor (by default) and we can declare our own constructor \n",
    "also allowing derived types (i.e classes) to initialize it member variables so that those \n",
    "(member variables) would be accessible to their derived types through inheritance.\n",
    "Conclusion: we can’t create instance directly using new keyword, but we can call its \n",
    "constructor not to create its instance but to provide initialization to its member \n",
    "variables such that those variables can be accessible and used in its derived classes.\n",
    "\"\"\""
   ]
  },
  {
   "cell_type": "code",
   "execution_count": null,
   "id": "e0a7f047-fb1c-452c-b4b3-8507ee8d270a",
   "metadata": {},
   "outputs": [],
   "source": []
  }
 ],
 "metadata": {
  "kernelspec": {
   "display_name": "Python 3 (ipykernel)",
   "language": "python",
   "name": "python3"
  },
  "language_info": {
   "codemirror_mode": {
    "name": "ipython",
    "version": 3
   },
   "file_extension": ".py",
   "mimetype": "text/x-python",
   "name": "python",
   "nbconvert_exporter": "python",
   "pygments_lexer": "ipython3",
   "version": "3.10.8"
  }
 },
 "nbformat": 4,
 "nbformat_minor": 5
}
