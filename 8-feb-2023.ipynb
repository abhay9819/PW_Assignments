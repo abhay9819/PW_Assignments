{
 "cells": [
  {
   "cell_type": "code",
   "execution_count": 1,
   "id": "5c82cdd7-7be7-4367-a5b1-4a355302c9bd",
   "metadata": {},
   "outputs": [
    {
     "name": "stdout",
     "output_type": "stream",
     "text": [
      "Abhay Sharma\n",
      "Bakers street, Mumbai TAXINFO123 1234567890\n",
      "Indian Python Programming A+\n"
     ]
    }
   ],
   "source": [
    "# Q1: What is Abstraction in OOps? Explain with an example.\n",
    "\"\"\"\n",
    "Abstraction is used to hide the internal functionality of the function from the users. \n",
    "The users only interact with the basic implementation of the function, but inner working is hidden. \n",
    "User is familiar with that \"what function does\" but they don't know \"how it does.\"\n",
    "\n",
    "\"\"\"\n",
    "# Example:\n",
    "\n",
    "class Person:\n",
    "    def __init__(self):\n",
    "        self.name = \"Abhay Sharma\"\n",
    "\n",
    "    def bio(self):\n",
    "        self.addr = \"Bakers street, Mumbai\"\n",
    "        self.taxInfo = \"TAXINFO123\"\n",
    "        self.contact = \"1234567890\"\n",
    "        print(self.addr, self.taxInfo, self.contact)\n",
    "\n",
    "    def interest(self):\n",
    "        self.favFood = \"Indian\"\n",
    "        self.hobbies = \"Python Programming\"\n",
    "        self.bloodGroup = \"A+\"\n",
    "        print(self.favFood, self.hobbies, self.bloodGroup)\n",
    "\n",
    "obj = Person()\n",
    "print(obj.name)\n",
    "obj.bio()\n",
    "obj.interest()"
   ]
  },
  {
   "cell_type": "code",
   "execution_count": 3,
   "id": "48438844-1032-4005-aa3e-4db61ccc9428",
   "metadata": {},
   "outputs": [
    {
     "data": {
      "text/plain": [
       "'\\nThe main difference between abstraction vs encapsulation is that the problem is solved\\nby Abstraction at the design level and the application level by Encapsulation. \\nAbstraction involves hiding unwanted information while providing the most important information, \\nwhereas encapsulation implies hiding code and information in one device.\\n\\n'"
      ]
     },
     "execution_count": 3,
     "metadata": {},
     "output_type": "execute_result"
    }
   ],
   "source": [
    "# Q2: Differentiate between Abstraction and Encapsulation. Explain with an example.\n",
    "\"\"\"\n",
    "The main difference between abstraction vs encapsulation is that the problem is solved\n",
    "by Abstraction at the design level and the application level by Encapsulation. \n",
    "Abstraction involves hiding unwanted information while providing the most important information, \n",
    "whereas encapsulation implies hiding code and information in one device.\n",
    "\n",
    "\"\"\"\n",
    "# Example:\n"
   ]
  },
  {
   "cell_type": "code",
   "execution_count": null,
   "id": "973ee188-ee9e-4e69-86b8-6ed231df383b",
   "metadata": {},
   "outputs": [],
   "source": [
    "# Q3: What is abc module in python? Why is it used?\n",
    "\"\"\"\n",
    "\n",
    "\"\"\""
   ]
  },
  {
   "cell_type": "code",
   "execution_count": null,
   "id": "07d350ba-150b-4938-8668-a00419b11d8f",
   "metadata": {},
   "outputs": [],
   "source": [
    "# Q4: How can we achieve data abstraction?\n",
    "\"\"\"\n",
    "\n",
    "\n",
    "\"\"\""
   ]
  },
  {
   "cell_type": "code",
   "execution_count": null,
   "id": "b29a893c-450e-4c3d-8e87-66cccc8bd51f",
   "metadata": {},
   "outputs": [],
   "source": [
    "# Q5: Can we create an instance of an abstract class? Explain your answer.\n",
    "\"\"\"\n",
    "\n",
    "\n",
    "\"\"\""
   ]
  },
  {
   "cell_type": "code",
   "execution_count": null,
   "id": "e0a7f047-fb1c-452c-b4b3-8507ee8d270a",
   "metadata": {},
   "outputs": [],
   "source": []
  }
 ],
 "metadata": {
  "kernelspec": {
   "display_name": "Python 3 (ipykernel)",
   "language": "python",
   "name": "python3"
  },
  "language_info": {
   "codemirror_mode": {
    "name": "ipython",
    "version": 3
   },
   "file_extension": ".py",
   "mimetype": "text/x-python",
   "name": "python",
   "nbconvert_exporter": "python",
   "pygments_lexer": "ipython3",
   "version": "3.10.8"
  }
 },
 "nbformat": 4,
 "nbformat_minor": 5
}
